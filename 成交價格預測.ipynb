{
 "cells": [
  {
   "cell_type": "code",
   "execution_count": 1,
   "id": "a8c8faba-15d7-4345-9e29-a06951cfbf7c",
   "metadata": {},
   "outputs": [],
   "source": [
    "import pandas as pd\n",
    "import numpy as np\n",
    "import matplotlib.pyplot as plt\n",
    "import seaborn as sns\n",
    "import warnings\n",
    "warnings.filterwarnings(\"ignore\")"
   ]
  },
  {
   "cell_type": "code",
   "execution_count": 2,
   "id": "07dab112-0c10-468d-95ef-47f81db6252a",
   "metadata": {},
   "outputs": [],
   "source": [
    "df=pd.read_excel(\"台中市合併資料2023Q3-2024Q2_2.xlsx\")"
   ]
  },
  {
   "cell_type": "code",
   "execution_count": 3,
   "id": "dd188a7d-1c5b-4563-9dc1-6192165aa1e7",
   "metadata": {},
   "outputs": [],
   "source": [
    "df.drop_duplicates(subset=[\"成交編號\"], keep=\"first\", inplace=True)"
   ]
  },
  {
   "cell_type": "code",
   "execution_count": 4,
   "id": "28ece80b-9865-4f5a-84ab-7d496ed75541",
   "metadata": {},
   "outputs": [],
   "source": [
    "df=df.reset_index(drop=True)"
   ]
  },
  {
   "cell_type": "code",
   "execution_count": 5,
   "id": "6a7c5694-c3fa-42c7-96fe-1ec2ddea8add",
   "metadata": {},
   "outputs": [
    {
     "name": "stdout",
     "output_type": "stream",
     "text": [
      "<class 'pandas.core.frame.DataFrame'>\n",
      "RangeIndex: 13870 entries, 0 to 13869\n",
      "Data columns (total 34 columns):\n",
      " #   Column  Non-Null Count  Dtype         \n",
      "---  ------  --------------  -----         \n",
      " 0   成交年月    13870 non-null  int64         \n",
      " 1   開價年月    13870 non-null  int64         \n",
      " 2   成交日期    13870 non-null  datetime64[ns]\n",
      " 3   開價日期    13870 non-null  datetime64[ns]\n",
      " 4   成交編號    13870 non-null  object        \n",
      " 5   開價編號    13870 non-null  int64         \n",
      " 6   縣市      13870 non-null  object        \n",
      " 7   鄉鎮市區    13870 non-null  object        \n",
      " 8   成交路名    13870 non-null  object        \n",
      " 9   開價路名    13870 non-null  object        \n",
      " 10  社區名稱    13870 non-null  object        \n",
      " 11  成交門牌    13870 non-null  object        \n",
      " 12  開價段     0 non-null      float64       \n",
      " 13  成交總樓層   13870 non-null  int64         \n",
      " 14  開價總樓層   13833 non-null  float64       \n",
      " 15  成交移轉層次  13870 non-null  object        \n",
      " 16  開價移轉層次  12501 non-null  float64       \n",
      " 17  建物型態    13870 non-null  object        \n",
      " 18  建材      13870 non-null  object        \n",
      " 19  房型      13870 non-null  int64         \n",
      " 20  有無管理組織  13870 non-null  object        \n",
      " 21  車位類別    6885 non-null   object        \n",
      " 22  成交屋齡    13870 non-null  int64         \n",
      " 23  開價屋齡    13870 non-null  float64       \n",
      " 24  成交總價    13870 non-null  float64       \n",
      " 25  開價總價    13870 non-null  int64         \n",
      " 26  成交單價    13870 non-null  float64       \n",
      " 27  開價單價    13870 non-null  float64       \n",
      " 28  成交面積    13870 non-null  float64       \n",
      " 29  開價面積    13870 non-null  float64       \n",
      " 30  銷售天期    13870 non-null  int64         \n",
      " 31  折價率     13870 non-null  float64       \n",
      " 32  成交季     13870 non-null  object        \n",
      " 33  銷天365   13870 non-null  object        \n",
      "dtypes: datetime64[ns](2), float64(10), int64(8), object(14)\n",
      "memory usage: 3.6+ MB\n"
     ]
    }
   ],
   "source": [
    "df.info()"
   ]
  },
  {
   "cell_type": "code",
   "execution_count": 6,
   "id": "45458489-104b-4bc3-9efd-1c988d728253",
   "metadata": {},
   "outputs": [],
   "source": [
    "df=df[[\"開價年月\",\"縣市\",\"鄉鎮市區\",\"社區名稱\",\"開價總樓層\",\"開價移轉層次\",\"建物型態\",\"開價屋齡\",\"開價面積\",'開價總價','開價單價',\"房型\",\"車位類別\",\"有無管理組織\",\"銷售天期\",\"建材\",\"成交單價\",\"成交總價\",\"折價率\"]]"
   ]
  },
  {
   "cell_type": "code",
   "execution_count": 7,
   "id": "d24de204-cb93-4dc8-bc72-ba9706f5db10",
   "metadata": {},
   "outputs": [],
   "source": [
    "df=df[df[\"開價移轉層次\"]>=2]"
   ]
  },
  {
   "cell_type": "code",
   "execution_count": 8,
   "id": "09ebb441-0549-4f5d-be60-90113b9f74f6",
   "metadata": {},
   "outputs": [
    {
     "data": {
      "text/plain": [
       "開價年月         0\n",
       "縣市           0\n",
       "鄉鎮市區         0\n",
       "社區名稱         0\n",
       "開價總樓層        1\n",
       "開價移轉層次       0\n",
       "建物型態         0\n",
       "開價屋齡         0\n",
       "開價面積         0\n",
       "開價總價         0\n",
       "開價單價         0\n",
       "房型           0\n",
       "車位類別      3910\n",
       "有無管理組織       0\n",
       "銷售天期         0\n",
       "建材           0\n",
       "成交單價         0\n",
       "成交總價         0\n",
       "折價率          0\n",
       "dtype: int64"
      ]
     },
     "execution_count": 8,
     "metadata": {},
     "output_type": "execute_result"
    }
   ],
   "source": [
    "df.isnull().sum()"
   ]
  },
  {
   "cell_type": "code",
   "execution_count": 9,
   "id": "59a331b5-f7e9-48fe-b2e9-5385ec6c9a1a",
   "metadata": {},
   "outputs": [
    {
     "data": {
      "text/plain": [
       "建材\n",
       "鋼筋混凝土造                 9963\n",
       "鋼骨鋼筋混凝土造                208\n",
       "鋼骨造                      58\n",
       "ＲＣ造                      47\n",
       "加強磚造                     34\n",
       "鋼骨混凝土造                   14\n",
       "鋼筋混凝土加強磚造                11\n",
       "ＲＣ造、鋼骨造                   3\n",
       "見其他登記事項                   3\n",
       "鋼骨鋼筋混凝土造、鋼筋混凝土造           3\n",
       "鐵筋加強磚                     3\n",
       "鐵筋加強磚造                    3\n",
       "加強磚造、水泥平頂、磨石地床            2\n",
       "ＲＣ鋼筋混凝土造                  2\n",
       "磚造                        2\n",
       "ＲＣ造．鋼骨造                   1\n",
       "鋼造                        1\n",
       "鋼骨鋼筋混凝土造，鋼筋混凝土造，鋼骨造       1\n",
       "Name: count, dtype: int64"
      ]
     },
     "execution_count": 9,
     "metadata": {},
     "output_type": "execute_result"
    }
   ],
   "source": [
    "df[\"建材\"].value_counts()"
   ]
  },
  {
   "cell_type": "code",
   "execution_count": 10,
   "id": "b3ca7d74-ddad-4e9b-a086-d063a672b00d",
   "metadata": {},
   "outputs": [],
   "source": [
    "df.loc[~df['建材'].isin(['鋼筋混凝土造','鋼骨鋼筋混凝土造','鋼骨造','ＲＣ造','其他']), '建材'] = '其他'"
   ]
  },
  {
   "cell_type": "code",
   "execution_count": 11,
   "id": "9f7d5244-dc36-43cd-9393-e4a11f54d4db",
   "metadata": {},
   "outputs": [],
   "source": [
    "df[\"建材\"]=df[\"建材\"].fillna(\"鋼筋混凝土造\")"
   ]
  },
  {
   "cell_type": "code",
   "execution_count": 12,
   "id": "536e4225-128f-45cd-8a73-251e8e79ee9c",
   "metadata": {},
   "outputs": [],
   "source": [
    "#缺失值處理，idea 就 缺值我填無，到時建模再用label encoding 處理\n",
    "df[\"車位類別\"]=df[\"車位類別\"].fillna(\"無車位\")"
   ]
  },
  {
   "cell_type": "code",
   "execution_count": 13,
   "id": "b678786e-a6dc-41f9-b4ca-d7688eb37d59",
   "metadata": {},
   "outputs": [],
   "source": [
    "df=df.dropna()"
   ]
  },
  {
   "cell_type": "code",
   "execution_count": 14,
   "id": "b77e6b72-1068-46ab-8a98-8f472a67bcc6",
   "metadata": {},
   "outputs": [],
   "source": [
    "#極端值處理 我們處理格局 總價 單價 面積\n",
    "#df.describe()\n",
    "\n",
    "for outlier in [\"開價面積\",\"開價總價\",\"開價單價\",\"房型\",\"成交總價\",\"成交單價\",\"折價率\",\"開價屋齡\"]:\n",
    "    stat = df[outlier].describe()\n",
    "    IQR = stat[\"75%\"] - stat[\"25%\"]\n",
    "    upper_limit = stat[\"75%\"] + 1.5 * IQR\n",
    "    lower_limit = stat[\"25%\"] - 1.5 * IQR\n",
    "    df = df[(df[outlier] <= upper_limit) & (df[outlier] >= lower_limit)]\n"
   ]
  },
  {
   "cell_type": "code",
   "execution_count": 15,
   "id": "e84a91ac-7efb-4a8e-a0c8-24a938b1327b",
   "metadata": {},
   "outputs": [],
   "source": [
    "#把開價年月轉成開價季資料\n",
    "df[\"開價年月\"]=df[\"開價年月\"].astype(\"string\")\n",
    "def transfer_to_season(date):\n",
    "    year = date[:4]\n",
    "    month = date[4:]\n",
    "    \n",
    "    if month in [\"01\", \"02\", \"03\"]:\n",
    "        return year + \"Q1\"\n",
    "    elif month in [\"04\", \"05\", \"06\"]:\n",
    "        return year + \"Q2\"\n",
    "    elif month in [\"07\", \"08\", \"09\"]:\n",
    "        return year + \"Q3\"\n",
    "    elif month in [\"10\", \"11\", \"12\"]:\n",
    "        return year + \"Q4\"\n",
    "    else:\n",
    "        return \"Invalid Date\"\n",
    "\n",
    "\n",
    "df[\"開價季度\"] = df[\"開價年月\"].apply(transfer_to_season)"
   ]
  },
  {
   "cell_type": "code",
   "execution_count": 16,
   "id": "fbaf0da3-e258-4a9d-805d-f4de99518409",
   "metadata": {},
   "outputs": [],
   "source": [
    "df=df[df[\"開價季度\"]!='2024Q3']\n",
    "df=df[df[\"開價季度\"]!='2023Q2']"
   ]
  },
  {
   "cell_type": "code",
   "execution_count": 17,
   "id": "a1e5667a-1089-4bb1-9cb1-66e477f8fe95",
   "metadata": {},
   "outputs": [],
   "source": [
    "#做完視覺化後，我們做一下特徵工程\n",
    "\n",
    "#先處理label encoding\n",
    "#我們思考一下哪些類別是有排名依序的\n",
    "#車位種類?  建材? 我們嘗試用車位和建材型態做label encoding\n",
    "car_dict={'無車位':0,'其他':1,'塔式車位':2,'升降機械':3,'升降平面':4,'坡道機械':5,'坡道平面':6,'一樓平面':7}\n",
    "material_dict={\"其他\":0,\"ＲＣ造\":1,\"鋼骨造\":2,\"鋼骨鋼筋混凝土造\":3,\"鋼筋混凝土造\":4}\n",
    "type_dict={\"公寓(5樓含以下無電梯)\":0,\"華廈(10層含以下有電梯)\":1,\"住宅大樓(11層含以上有電梯)\":2,\"透天厝\":3}"
   ]
  },
  {
   "cell_type": "code",
   "execution_count": 18,
   "id": "cd8f8d2b-cf68-4152-b067-36970382d9e4",
   "metadata": {},
   "outputs": [],
   "source": [
    "df[\"車位類別\"]=df[\"車位類別\"].map(car_dict)\n",
    "df[\"建材\"]=df[\"建材\"].map(material_dict)\n",
    "df[\"建物型態\"]=df[\"建物型態\"].map(type_dict)"
   ]
  },
  {
   "cell_type": "code",
   "execution_count": 19,
   "id": "d4ad4c10-0e0f-4c3b-8f6e-c388e49abc2e",
   "metadata": {},
   "outputs": [],
   "source": [
    "from sklearn.preprocessing import LabelEncoder\n",
    "\n",
    "# 創建LabelEncoder物件\n",
    "le = LabelEncoder()\n",
    "\n",
    "# 使用fit_transform方法進行編碼\n",
    "df[\"鄉鎮市區\"] = le.fit_transform(df[\"鄉鎮市區\"])"
   ]
  },
  {
   "cell_type": "code",
   "execution_count": 20,
   "id": "5cc90c61-6ca3-45bb-a1f0-393f94428ed4",
   "metadata": {},
   "outputs": [],
   "source": [
    "#接下來處理one hot encoding\n",
    "df=pd.get_dummies(df,columns=[\"有無管理組織\",\"開價季度\"],drop_first=True,dtype=int)"
   ]
  },
  {
   "cell_type": "code",
   "execution_count": 21,
   "id": "6b82217c-59da-4ad6-b46c-3ceb487837eb",
   "metadata": {},
   "outputs": [],
   "source": [
    "df=df.drop([\"縣市\",\"社區名稱\",\"開價年月\"],axis=1)"
   ]
  },
  {
   "cell_type": "code",
   "execution_count": 22,
   "id": "bdc0f794-26f4-4cd3-9e7b-56f8fd6702d6",
   "metadata": {},
   "outputs": [],
   "source": [
    "df.reset_index(drop=True,inplace=True)"
   ]
  },
  {
   "cell_type": "code",
   "execution_count": 23,
   "id": "46342453-5807-4d68-bff0-fc3056836931",
   "metadata": {},
   "outputs": [],
   "source": [
    "df[\"開價移轉層次\"]=df[\"開價移轉層次\"].astype(int)"
   ]
  },
  {
   "cell_type": "code",
   "execution_count": 24,
   "id": "bceb1878-b599-4672-9ea5-e78033d04d33",
   "metadata": {},
   "outputs": [
    {
     "name": "stdout",
     "output_type": "stream",
     "text": [
      "<class 'pandas.core.frame.DataFrame'>\n",
      "RangeIndex: 8600 entries, 0 to 8599\n",
      "Data columns (total 19 columns):\n",
      " #   Column       Non-Null Count  Dtype  \n",
      "---  ------       --------------  -----  \n",
      " 0   鄉鎮市區         8600 non-null   int32  \n",
      " 1   開價總樓層        8600 non-null   float64\n",
      " 2   開價移轉層次       8600 non-null   int32  \n",
      " 3   建物型態         8600 non-null   int64  \n",
      " 4   開價屋齡         8600 non-null   float64\n",
      " 5   開價面積         8600 non-null   float64\n",
      " 6   開價總價         8600 non-null   int64  \n",
      " 7   開價單價         8600 non-null   float64\n",
      " 8   房型           8600 non-null   int64  \n",
      " 9   車位類別         8600 non-null   int64  \n",
      " 10  銷售天期         8600 non-null   int64  \n",
      " 11  建材           8600 non-null   int64  \n",
      " 12  成交單價         8600 non-null   float64\n",
      " 13  成交總價         8600 non-null   float64\n",
      " 14  折價率          8600 non-null   float64\n",
      " 15  有無管理組織_無     8600 non-null   int32  \n",
      " 16  開價季度_2023Q4  8600 non-null   int32  \n",
      " 17  開價季度_2024Q1  8600 non-null   int32  \n",
      " 18  開價季度_2024Q2  8600 non-null   int32  \n",
      "dtypes: float64(7), int32(6), int64(6)\n",
      "memory usage: 1.0 MB\n"
     ]
    }
   ],
   "source": [
    "df.info()"
   ]
  },
  {
   "cell_type": "code",
   "execution_count": 25,
   "id": "e8a2035d-5bdc-4099-bc84-f97d01d464a7",
   "metadata": {},
   "outputs": [],
   "source": [
    "#基本上我們用幾個監督學習的model like linear regression random forest svm and xgbregressor\n",
    "#百套件箱裝一樁\n",
    "from sklearn.model_selection import train_test_split\n",
    "from sklearn.preprocessing import StandardScaler\n",
    "from sklearn.decomposition import PCA\n",
    "from sklearn.pipeline import Pipeline\n",
    "from sklearn.tree import DecisionTreeRegressor\n",
    "from sklearn.ensemble import RandomForestRegressor\n",
    "from sklearn.linear_model import LinearRegression\n",
    "from xgboost import XGBRegressor\n",
    "from sklearn.neighbors import KNeighborsRegressor\n",
    "from sklearn.model_selection import cross_val_score\n",
    "from sklearn.metrics import mean_squared_error\n",
    "from sklearn import metrics\n",
    "from sklearn.preprocessing import MinMaxScaler"
   ]
  },
  {
   "cell_type": "code",
   "execution_count": 26,
   "id": "e1f3cc37-1f50-47d5-959c-48fa95369732",
   "metadata": {},
   "outputs": [],
   "source": [
    "X= df.drop([\"成交單價\",\"成交總價\",\"折價率\"],axis=1)\n",
    "y= df[\"成交總價\"]"
   ]
  },
  {
   "cell_type": "code",
   "execution_count": 27,
   "id": "1a9c29ab-4dd6-4fbe-92e0-f123f82b4e7f",
   "metadata": {},
   "outputs": [],
   "source": [
    "X_train, X_test, y_train, y_test = train_test_split(X, y,test_size=0.25, random_state=101)"
   ]
  },
  {
   "cell_type": "code",
   "execution_count": 28,
   "id": "1e803a74-06dd-43ba-a13c-b783417dbf56",
   "metadata": {},
   "outputs": [],
   "source": [
    "pipeline_lr=Pipeline([(\"scalar1\",StandardScaler()),\n",
    "                     (\"lr_classifier\",LinearRegression())])\n",
    "\n",
    "pipeline_dt=Pipeline([(\"scalar2\",StandardScaler()),\n",
    "                     (\"dt_classifier\",DecisionTreeRegressor())])\n",
    "\n",
    "pipeline_rf=Pipeline([(\"scalar3\",StandardScaler()),\n",
    "                     (\"rf_classifier\",RandomForestRegressor())])\n",
    "\n",
    "\n",
    "pipeline_kn=Pipeline([(\"scalar4\",StandardScaler()),\n",
    "                     (\"kn_classifier\",KNeighborsRegressor())])\n",
    "\n",
    "\n",
    "pipeline_xgb=Pipeline([(\"scalar5\",StandardScaler()),\n",
    "                     (\"xgb_classifier\",XGBRegressor())])\n",
    "\n",
    "\n",
    "pipelines = [pipeline_lr, pipeline_dt, pipeline_rf, pipeline_kn, pipeline_xgb]\n",
    "\n",
    "\n",
    "pipe_dict = {0: \"LinearRegression\", 1: \"DecisionTree\", 2: \"RandomForest\",3: \"KNeighbors\", 4: \"XGBRegressor\"}\n",
    "#fit model\n",
    "for pipe in pipelines:\n",
    "    pipe.fit(X_train, y_train)"
   ]
  },
  {
   "cell_type": "code",
   "execution_count": 29,
   "id": "bda9f4b4-bf64-43ad-a4f8-4ee761ac9673",
   "metadata": {},
   "outputs": [
    {
     "name": "stdout",
     "output_type": "stream",
     "text": [
      "LinearRegression: -49.294171 \n",
      "DecisionTree: -68.988383 \n",
      "RandomForest: -50.047421 \n",
      "KNeighbors: -114.036143 \n",
      "XGBRegressor: -51.625942 \n"
     ]
    }
   ],
   "source": [
    "cv_results_rms = []\n",
    "for i, model in enumerate(pipelines):\n",
    "    cv_score = cross_val_score(model, X_train,y_train,scoring=\"neg_root_mean_squared_error\", cv=10)\n",
    "    cv_results_rms.append(cv_score)\n",
    "    print(\"%s: %f \" % (pipe_dict[i], cv_score.mean()))"
   ]
  },
  {
   "cell_type": "code",
   "execution_count": 30,
   "id": "6f68a094-3382-42d5-b56b-51be7eefbc16",
   "metadata": {},
   "outputs": [],
   "source": [
    "#從結果我們預測RandomForest\n",
    "from sklearn.metrics import mean_absolute_error,mean_absolute_percentage_error,mean_squared_error,mean_absolute_percentage_error\n",
    "from sklearn.model_selection import GridSearchCV"
   ]
  },
  {
   "cell_type": "code",
   "execution_count": 31,
   "id": "551dc89d-8bae-48a9-83f1-be0871591660",
   "metadata": {},
   "outputs": [],
   "source": [
    "# #用 Random forest regressor 做一做\n",
    "# parameters = {\n",
    "#     'n_estimators': [100, 150, 200, 250, 300],\n",
    "#     'max_depth': [1,2,3,4],\n",
    "# }\n",
    "# regr = RandomForestRegressor(random_state=0)\n",
    "\n",
    "# clf = GridSearchCV(regr, parameters)\n",
    "# clf.fit(X_train, y_train)"
   ]
  },
  {
   "cell_type": "code",
   "execution_count": 32,
   "id": "7206215d-bf1f-4438-8801-b6c437b3ba9e",
   "metadata": {
    "scrolled": true
   },
   "outputs": [],
   "source": [
    "# clf.best_estimator_"
   ]
  },
  {
   "cell_type": "code",
   "execution_count": 33,
   "id": "a5daa9de-2a90-4ab8-9ab5-86787a6c0480",
   "metadata": {},
   "outputs": [],
   "source": [
    "lr_model=LinearRegression()\n",
    "lr_model.fit(X_train,y_train)\n",
    "y_pred=lr_model.predict(X_test)"
   ]
  },
  {
   "cell_type": "code",
   "execution_count": 34,
   "id": "2b98d1e5-4dc6-4106-9cb0-f4fa62d84bc2",
   "metadata": {},
   "outputs": [
    {
     "name": "stdout",
     "output_type": "stream",
     "text": [
      "R^2: 0.9900369350516036\n",
      "MAE: 34.6737923533596\n",
      "MSE: 2198.91504151895\n",
      "RMSE: 46.892590475670566\n",
      "MAPE 0.03667898163780142\n"
     ]
    }
   ],
   "source": [
    "print(\"R^2:\",metrics.r2_score(y_test, y_pred))\n",
    "print(\"MAE:\",metrics.mean_absolute_error(y_test, y_pred))\n",
    "print(\"MSE:\",metrics.mean_squared_error(y_test, y_pred))\n",
    "print(\"RMSE:\",np.sqrt(metrics.mean_squared_error(y_test, y_pred)))\n",
    "print(\"MAPE\",mean_absolute_percentage_error(y_test,y_pred))"
   ]
  },
  {
   "cell_type": "code",
   "execution_count": 35,
   "id": "575ff027-8912-441f-9b8c-8e002b07fa5f",
   "metadata": {},
   "outputs": [
    {
     "data": {
      "text/plain": [
       "[<matplotlib.lines.Line2D at 0x1aea50975c0>]"
      ]
     },
     "execution_count": 35,
     "metadata": {},
     "output_type": "execute_result"
    },
    {
     "data": {
      "image/png": "[encoded data removed]",
      "text/plain": [
       "<Figure size 640x480 with 1 Axes>"
      ]
     },
     "metadata": {},
     "output_type": "display_data"
    }
   ],
   "source": [
    "sns.scatterplot(x=y_test,y=y_pred)\n",
    "sns.set_style(\"whitegrid\", {\"font.sans-serif\": ['Microsoft JhengHei']})\n",
    "plt.xlabel('實際值')\n",
    "plt.ylabel('預測值')\n",
    "plt.plot([min(y_test), max(y_test)], [min(y_test), max(y_test)], linestyle='--', color='red', linewidth=2)"
   ]
  },
  {
   "cell_type": "code",
   "execution_count": 36,
   "id": "cce89e2e-974a-483c-88be-31d4f8a87681",
   "metadata": {},
   "outputs": [
    {
     "name": "stdout",
     "output_type": "stream",
     "text": [
      "<class 'pandas.core.frame.DataFrame'>\n",
      "RangeIndex: 8600 entries, 0 to 8599\n",
      "Data columns (total 16 columns):\n",
      " #   Column       Non-Null Count  Dtype  \n",
      "---  ------       --------------  -----  \n",
      " 0   鄉鎮市區         8600 non-null   int32  \n",
      " 1   開價總樓層        8600 non-null   float64\n",
      " 2   開價移轉層次       8600 non-null   int32  \n",
      " 3   建物型態         8600 non-null   int64  \n",
      " 4   開價屋齡         8600 non-null   float64\n",
      " 5   開價面積         8600 non-null   float64\n",
      " 6   開價總價         8600 non-null   int64  \n",
      " 7   開價單價         8600 non-null   float64\n",
      " 8   房型           8600 non-null   int64  \n",
      " 9   車位類別         8600 non-null   int64  \n",
      " 10  銷售天期         8600 non-null   int64  \n",
      " 11  建材           8600 non-null   int64  \n",
      " 12  有無管理組織_無     8600 non-null   int32  \n",
      " 13  開價季度_2023Q4  8600 non-null   int32  \n",
      " 14  開價季度_2024Q1  8600 non-null   int32  \n",
      " 15  開價季度_2024Q2  8600 non-null   int32  \n",
      "dtypes: float64(4), int32(6), int64(6)\n",
      "memory usage: 873.6 KB\n"
     ]
    }
   ],
   "source": [
    "X.info()"
   ]
  },
  {
   "cell_type": "code",
   "execution_count": 40,
   "id": "de1c59ea-7546-457d-8676-9bd9f57b6e28",
   "metadata": {},
   "outputs": [
    {
     "name": "stdout",
     "output_type": "stream",
     "text": [
      "開價1600萬，成交價預測1481.69萬,折價率預測為7.39%\n",
      "價格誤差範圍介於1434.79,1528.58\n",
      "折價率誤差範圍介於10.33,4.46\n",
      "折價率誤差正負2.92%\n",
      "預測價格實際價格平均會差3.67%\n"
     ]
    }
   ],
   "source": [
    "test=np.array([3,12,8,2,15,40,1600,40,4,6,50,6,1,0,0,1])\n",
    "test=test.reshape(-1,1)\n",
    "test=test.reshape(1,16)\n",
    "case=lr_model.predict(test)\n",
    "rmse=np.sqrt(metrics.mean_squared_error(y_test, y_pred))\n",
    "mape=mean_absolute_percentage_error(y_test,y_pred)\n",
    "print(f\"開價1600萬，成交價預測{case.item():.2f}萬,折價率預測為{(1-case.item()/1600)*100:.2f}%\")\n",
    "print(f\"價格誤差範圍介於{(case.item()-rmse):.2f},{(case.item()+rmse):.2f}\")\n",
    "print(f\"折價率誤差範圍介於{(1-(case.item()-rmse)/1600)*100:.2f},{(1-(case.item()+rmse)/1600)*100:.2f}\")\n",
    "print(\"折價率誤差正負2.92%\")\n",
    "print(f\"預測價格實際價格平均會差{round(mape*100,2)}%\")"
   ]
  },
  {
   "cell_type": "code",
   "execution_count": null,
   "id": "eb899658-56e4-4b53-8dca-ad809294fd14",
   "metadata": {},
   "outputs": [],
   "source": [
    "#不特徵縮放 進行 random forest\n",
    "# rf_model=RandomForestRegressor()\n",
    "\n"
   ]
  },
  {
   "cell_type": "code",
   "execution_count": null,
   "id": "35385ef8-54ce-4f4e-9934-63b3655cd057",
   "metadata": {},
   "outputs": [],
   "source": [
    "# from sklearn.model_selection import GridSearchCV"
   ]
  },
  {
   "cell_type": "code",
   "execution_count": null,
   "id": "1e5d8d87-ec16-4620-88ca-b673244f8bba",
   "metadata": {},
   "outputs": [],
   "source": [
    "# parameters = {\n",
    "#     'n_estimators': [100, 150, 200, 250, 300],\n",
    "#     'max_depth': [1,2,3,4],\n",
    "# }\n",
    "# regr = RandomForestRegressor(random_state=0)\n",
    "\n",
    "# clf = GridSearchCV(regr, parameters)\n",
    "# clf.fit(X_train, y_train)"
   ]
  },
  {
   "cell_type": "code",
   "execution_count": null,
   "id": "088423a5-42eb-4163-b4db-99ffdabd5ee9",
   "metadata": {},
   "outputs": [],
   "source": [
    "# y_pred=clf.predict(X_test)"
   ]
  },
  {
   "cell_type": "code",
   "execution_count": null,
   "id": "ef3621af-f002-443f-aa75-db1e683861d1",
   "metadata": {},
   "outputs": [],
   "source": [
    "# print(\"R^2:\",metrics.r2_score(y_test, y_pred))\n",
    "# print(\"MAE:\",metrics.mean_absolute_error(y_test, y_pred))\n",
    "# print(\"MSE:\",metrics.mean_squared_error(y_test, y_pred))\n",
    "# print(\"RMSE:\",np.sqrt(metrics.mean_squared_error(y_test, y_pred)))\n",
    "# print(\"MAPE\",mean_absolute_percentage_error(y_test,y_pred))\n"
   ]
  },
  {
   "cell_type": "code",
   "execution_count": null,
   "id": "4ac7846f-2c43-4e8f-8a9c-d20a77404918",
   "metadata": {},
   "outputs": [],
   "source": [
    "# sns.scatterplot(x=y_test,y=y_pred)\n",
    "# plt.xlabel('實際值')\n",
    "# plt.ylabel('預測值')\n",
    "# plt.plot([min(y_test), max(y_test)], [min(y_test), max(y_test)], linestyle='--', color='red', linewidth=2)"
   ]
  },
  {
   "cell_type": "code",
   "execution_count": null,
   "id": "f20b53a1-6c05-4f8b-bbc4-e1477d1c6946",
   "metadata": {},
   "outputs": [],
   "source": [
    "#進行特徵縮放\n",
    "# df=df.drop(\"折價率\",axis=1)"
   ]
  },
  {
   "cell_type": "code",
   "execution_count": null,
   "id": "2b32d179-34cf-4ba5-a53d-e2f90b71adfd",
   "metadata": {},
   "outputs": [],
   "source": [
    "# df=df.drop(\"成交單價\",axis=1)"
   ]
  },
  {
   "cell_type": "code",
   "execution_count": null,
   "id": "ed0b6d6b-c5e7-4dac-8a30-c2b8d770efde",
   "metadata": {},
   "outputs": [],
   "source": [
    "# scaler=StandardScaler()\n",
    "# df=scaler.fit_transform(df)\n"
   ]
  },
  {
   "cell_type": "code",
   "execution_count": null,
   "id": "3e1a954b-04ab-402f-a46e-d07e9048c1d4",
   "metadata": {},
   "outputs": [],
   "source": [
    "# df=pd.DataFrame(df)"
   ]
  },
  {
   "cell_type": "code",
   "execution_count": null,
   "id": "bf5bd13b-01ee-4dbd-a1f5-553b43acf8d4",
   "metadata": {},
   "outputs": [],
   "source": [
    "# X=df.drop(11,axis=1)\n",
    "# y=df[11]"
   ]
  },
  {
   "cell_type": "code",
   "execution_count": null,
   "id": "8a25bf1f-fcde-4359-9d4d-f58267302305",
   "metadata": {},
   "outputs": [],
   "source": [
    "X_scaler_train, X_scaler_test, y_scaler_train, y_scaler_test = train_test_split(X, y,test_size=0.25, random_state=101)"
   ]
  },
  {
   "cell_type": "code",
   "execution_count": null,
   "id": "1b51f139-39eb-42c2-a9ce-aa3c249898c4",
   "metadata": {},
   "outputs": [],
   "source": [
    "# parameters = {\n",
    "#     'n_estimators': [100,200,300],\n",
    "#     'max_depth': [1,2,3,4],\n",
    "# }\n",
    "# regr = RandomForestRegressor(random_state=0)\n",
    "\n",
    "# clf2 = GridSearchCV(regr, parameters)\n",
    "# clf2.fit(X_scaler_train, y_scaler_train)"
   ]
  },
  {
   "cell_type": "code",
   "execution_count": null,
   "id": "fb6bf33a-ed72-473c-9254-decf287e4f9c",
   "metadata": {},
   "outputs": [],
   "source": [
    "# y_pred2=clf2.predict(X_scaler_test)"
   ]
  },
  {
   "cell_type": "code",
   "execution_count": null,
   "id": "cb870016-5c89-4355-8ee9-8c5bba5ea72b",
   "metadata": {},
   "outputs": [],
   "source": [
    "# print(\"R^2:\",metrics.r2_score(y_scaler_test, y_pred2))\n",
    "# print(\"MAE:\",metrics.mean_absolute_error(y_scaler_test, y_pred2))\n",
    "# print(\"MSE:\",metrics.mean_squared_error(y_scaler_test, y_pred2))\n",
    "# print(\"RMSE:\",np.sqrt(metrics.mean_squared_error(y_scaler_test, y_pred2)))\n",
    "# print(\"MAPE\",mean_absolute_percentage_error(y_scaler_test,y_pred2))"
   ]
  },
  {
   "cell_type": "code",
   "execution_count": null,
   "id": "4ba6ac7a-6cf7-42e2-b042-fb6b7b0f5da0",
   "metadata": {},
   "outputs": [],
   "source": [
    "# sns.scatterplot(x=y_scaler_test,y=y_pred2)\n",
    "# sns.set_style(\"whitegrid\", {\"font.sans-serif\": ['Microsoft JhengHei']})\n",
    "# plt.xlabel('實際值')\n",
    "# plt.ylabel('預測值')\n",
    "# plt.plot([min(y_scaler_test), max(y_scaler_test)], [min(y_scaler_test), max(y_scaler_test)], linestyle='--', color='red', linewidth=2)"
   ]
  },
  {
   "cell_type": "code",
   "execution_count": null,
   "id": "e267d119-a3b2-4155-88ad-4b81075a0b2c",
   "metadata": {},
   "outputs": [],
   "source": [
    "#用 linear model 做一做\n",
    "lr_model=LinearRegression()\n",
    "lr_model.fit(X_scaler_train,y_scaler_train)"
   ]
  },
  {
   "cell_type": "code",
   "execution_count": null,
   "id": "336458c7-43f4-48f8-820d-573df7e81fac",
   "metadata": {},
   "outputs": [],
   "source": [
    "# y_pred3=lr_model.predict(X_scaler_test)"
   ]
  },
  {
   "cell_type": "code",
   "execution_count": null,
   "id": "054a3132-b030-4776-a34e-f6c886290824",
   "metadata": {},
   "outputs": [],
   "source": [
    "# print(\"R^2:\",metrics.r2_score(y_scaler_test, y_pred3))\n",
    "# print(\"MAE:\",metrics.mean_absolute_error(y_scaler_test, y_pred3))\n",
    "# print(\"MSE:\",metrics.mean_squared_error(y_scaler_test, y_pred3))\n",
    "# print(\"RMSE:\",np.sqrt(metrics.mean_squared_error(y_scaler_test, y_pred3)))\n",
    "# print(\"MAPE\",mean_absolute_percentage_error(y_scaler_test,y_pred3))"
   ]
  },
  {
   "cell_type": "code",
   "execution_count": null,
   "id": "b1c50b12-1937-4fb0-8aef-7bd4e62d0859",
   "metadata": {},
   "outputs": [],
   "source": [
    "# sns.scatterplot(x=y_scaler_test,y=y_pred3)\n",
    "# sns.set_style(\"whitegrid\", {\"font.sans-serif\": ['Microsoft JhengHei']})\n",
    "# plt.xlabel('實際值')\n",
    "# plt.ylabel('預測值')\n",
    "# plt.plot([min(y_scaler_test), max(y_scaler_test)], [min(y_scaler_test), max(y_scaler_test)], linestyle='--', color='red', linewidth=2)"
   ]
  },
  {
   "cell_type": "code",
   "execution_count": null,
   "id": "7ed4f8c0-2bc3-4cb1-a7fb-6ada0de70b26",
   "metadata": {},
   "outputs": [],
   "source": [
    "# test=np.array([12,8,2,15,40,40,1600,4,6,4,0,0,0,1,0,0,0,0,0,0,0,0,0,0,0,1])\n",
    "# test=test.reshape(-1,1)\n",
    "# test=test.reshape(1,26)\n",
    "# case=lr_model.predict(test)\n",
    "# rmse=np.sqrt(metrics.mean_squared_error(y_test, y_pred3))\n",
    "# mape=mean_absolute_percentage_error(y_test,y_pred3)\n",
    "# print(f\"開價1600萬，成交價預測{case.item():.2f}萬,折價率預測為{(1-case.item()/1600)*100:.2f}%\")\n",
    "# print(f\"誤差範圍介於{(case.item()-rmse):.2f},{(case.item()+rmse):.2f}\")\n",
    "# print(f\"折價率誤差範圍介於{(1-(case.item()-rmse)/1600)*100:.2f},{(1-(case.item()+rmse)/1600)*100:.2f}\")\n",
    "# print(\"誤差正負3.17%\")\n",
    "# print(\"預測價格實際價格平均會差3.88%\")\n"
   ]
  },
  {
   "cell_type": "code",
   "execution_count": null,
   "id": "0d64a243-bc1f-403a-808b-7900d4669464",
   "metadata": {},
   "outputs": [],
   "source": [
    "#試試看作特徵縮放\n",
    "# scaler=StandardScaler()"
   ]
  },
  {
   "cell_type": "code",
   "execution_count": null,
   "id": "feee17d8-0436-46ec-b083-f0f59448c564",
   "metadata": {},
   "outputs": [],
   "source": [
    "# X_scaler_train2=scaler.fit_transform(X_scaler_train)"
   ]
  },
  {
   "cell_type": "code",
   "execution_count": null,
   "id": "48fb0e2b-0f6b-4153-92d9-aeaa529291ab",
   "metadata": {},
   "outputs": [],
   "source": [
    "# X_scaler_test2=scaler.fit_transform(X_scaler_test)"
   ]
  },
  {
   "cell_type": "code",
   "execution_count": null,
   "id": "21102d66-7ace-4caf-a2eb-d7189511f2e4",
   "metadata": {
    "scrolled": true
   },
   "outputs": [],
   "source": [
    "# lr_model=LinearRegression()\n",
    "# lr_model.fit(X_scaler_train2,y_train)\n",
    "\n",
    "\n"
   ]
  },
  {
   "cell_type": "code",
   "execution_count": null,
   "id": "145a9646-ff51-4373-bc6f-7099fb4b189e",
   "metadata": {},
   "outputs": [],
   "source": [
    "\n",
    "\n"
   ]
  },
  {
   "cell_type": "code",
   "execution_count": null,
   "id": "4f258160-9ed7-48c9-a989-94f690b94306",
   "metadata": {},
   "outputs": [],
   "source": []
  },
  {
   "cell_type": "code",
   "execution_count": null,
   "id": "974ff5b3-e932-42a1-a194-02b1ce2c3e58",
   "metadata": {},
   "outputs": [],
   "source": [
    "# scaler=MinMaxScaler()\n",
    "# df=scaler.fit_transform(df)\n",
    "# df = pd.DataFrame(df)\n",
    "# X=df.drop(12,axis=1)\n",
    "# y=df[12]\n",
    "# X_scaler_train, X_scaler_test, y_scaler_train, y_scaler_test = train_test_split(X, y,test_size=0.25, random_state=101)\n",
    "# LR_model=LinearRegression()\n",
    "# LR_model.fit(X_scaler_train,y_scaler_train)\n",
    "# y_scaler_pred=LR_model.predict(X_scaler_test)\n",
    "# print(\"R^2:\",metrics.r2_score(y_scaler_test, y_scaler_pred))\n",
    "# print(\"MAE:\",metrics.mean_absolute_error(y_scaler_test, y_scaler_pred))\n",
    "# print(\"MSE:\",metrics.mean_squared_error(y_scaler_test, y_scaler_pred))\n",
    "# print(\"RMSE:\",np.sqrt(metrics.mean_squared_error(y_scaler_test, y_scaler_pred)))\n",
    "# print(\"MAPE\",mean_absolute_percentage_error(y_scaler_test,y_scaler_pred))\n",
    "# sns.scatterplot(x=y_scaler_test,y=y_scaler_pred)\n",
    "# plt.xlabel('實際值')\n",
    "# plt.ylabel('預測值')\n",
    "# plt.plot([min(y_scaler_test), max(y_scaler_test)], [min(y_scaler_test), max(y_scaler_test)], linestyle='--', color='red', linewidth=2)"
   ]
  },
  {
   "cell_type": "code",
   "execution_count": null,
   "id": "a6431ab6-fdf4-4ef1-9d86-dca8f9936383",
   "metadata": {},
   "outputs": [],
   "source": []
  },
  {
   "cell_type": "code",
   "execution_count": null,
   "id": "2b65162b-172c-4118-8985-163cb52caf28",
   "metadata": {},
   "outputs": [],
   "source": []
  },
  {
   "cell_type": "code",
   "execution_count": null,
   "id": "5fc35b1c-7ba0-4536-97f6-8b76817d047a",
   "metadata": {},
   "outputs": [],
   "source": []
  },
  {
   "cell_type": "code",
   "execution_count": null,
   "id": "1e478afb-577c-4581-a891-26c20433c681",
   "metadata": {},
   "outputs": [],
   "source": []
  },
  {
   "cell_type": "code",
   "execution_count": null,
   "id": "80c94848-3008-4eba-8a9e-fcd0a5e38070",
   "metadata": {},
   "outputs": [],
   "source": []
  },
  {
   "cell_type": "code",
   "execution_count": null,
   "id": "d35e0128-a287-4c95-85e9-86b9e13b8e06",
   "metadata": {},
   "outputs": [],
   "source": []
  },
  {
   "cell_type": "code",
   "execution_count": null,
   "id": "17b8a6cf-9f5f-4ab7-a64e-20b03233c546",
   "metadata": {},
   "outputs": [],
   "source": []
  },
  {
   "cell_type": "code",
   "execution_count": null,
   "id": "dd5bdabd-108f-4246-b499-81c8a06664db",
   "metadata": {},
   "outputs": [],
   "source": []
  },
  {
   "cell_type": "code",
   "execution_count": null,
   "id": "c93d69d6-8cc6-4fe0-991b-b9d5a51c0c35",
   "metadata": {},
   "outputs": [],
   "source": [
    "\n"
   ]
  },
  {
   "cell_type": "code",
   "execution_count": null,
   "id": "322b6686-799b-4e38-b070-dc8fb26ed96e",
   "metadata": {},
   "outputs": [],
   "source": []
  },
  {
   "cell_type": "code",
   "execution_count": null,
   "id": "40c21fd1-74b6-4735-9a9f-6e74bda8cff1",
   "metadata": {},
   "outputs": [],
   "source": []
  }
 ],
 "metadata": {
  "kernelspec": {
   "display_name": "Python 3 (ipykernel)",
   "language": "python",
   "name": "python3"
  },
  "language_info": {
   "codemirror_mode": {
    "name": "ipython",
    "version": 3
   },
   "file_extension": ".py",
   "mimetype": "text/x-python",
   "name": "python",
   "nbconvert_exporter": "python",
   "pygments_lexer": "ipython3",
   "version": "3.12.4"
  }
 },
 "nbformat": 4,
 "nbformat_minor": 5
}
