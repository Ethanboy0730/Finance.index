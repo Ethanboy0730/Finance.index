{
 "cells": [
  {
   "cell_type": "code",
   "execution_count": 1,
   "id": "1106c737",
   "metadata": {},
   "outputs": [],
   "source": [
    "import pandas as pd\n",
    "import numpy as np\n",
    "import seaborn as sns\n",
    "import matplotlib.pyplot as plt\n",
    "from statsmodels.tsa.api import VAR\n",
    "from statsmodels.tsa.stattools import adfuller\n",
    "from statsmodels.tools.eval_measures import rmse\n",
    "from statsmodels.tsa.stattools import grangercausalitytests\n",
    "import warnings\n",
    "warnings.filterwarnings(\"ignore\")\n"
   ]
  },
  {
   "cell_type": "code",
   "execution_count": 2,
   "id": "ba679973",
   "metadata": {},
   "outputs": [],
   "source": [
    "df1=pd.read_csv(\"Taiwan Weighted Historical Data (2).csv\",index_col=\"Date\",parse_dates=True)"
   ]
  },
  {
   "cell_type": "markdown",
   "id": "ad3ad34f",
   "metadata": {},
   "source": [
    "## 資料清理"
   ]
  },
  {
   "cell_type": "code",
   "execution_count": 3,
   "id": "20a350d4",
   "metadata": {},
   "outputs": [],
   "source": [
    "df1=df1[::-1]"
   ]
  },
  {
   "cell_type": "code",
   "execution_count": 4,
   "id": "bf312738",
   "metadata": {},
   "outputs": [],
   "source": [
    "\n",
    "df1=df1[[\"Price\"]]\n",
    "\n",
    "\n",
    "\n",
    "for i in df1.columns:\n",
    "    df1[i]=df1[i].str.replace(\",\",\"\")\n",
    "    \n",
    "    \n",
    "    \n"
   ]
  },
  {
   "cell_type": "code",
   "execution_count": 5,
   "id": "c985eb03",
   "metadata": {},
   "outputs": [],
   "source": [
    "df1[\"Price\"]=df1[\"Price\"].astype(float)"
   ]
  },
  {
   "cell_type": "code",
   "execution_count": 6,
   "id": "051616a3",
   "metadata": {},
   "outputs": [],
   "source": [
    "df1[\"Return_rate\"]=df1[\"Price\"].pct_change()"
   ]
  },
  {
   "cell_type": "code",
   "execution_count": 7,
   "id": "1e41ff77",
   "metadata": {},
   "outputs": [],
   "source": [
    "df2=pd.read_csv(\"Philadelphia Semiconductor Index Historical Data.csv\",index_col=\"Date\",parse_dates=True)\n",
    "df2=df2[::-1]\n",
    "df2=df2[[\"Price\"]]\n",
    "\n",
    "\n",
    "\n",
    "for i in df2.columns:\n",
    "    df2[i]=df2[i].str.replace(\",\",\"\")\n",
    "\n",
    "df2[\"Price\"]=df2[\"Price\"].astype(float)\n",
    "df2[\"Return_rate\"]=df2[\"Price\"].pct_change()\n",
    "    "
   ]
  },
  {
   "cell_type": "code",
   "execution_count": 8,
   "id": "6373fc71",
   "metadata": {},
   "outputs": [],
   "source": [
    "df = pd.concat([df1, df2], axis=1)"
   ]
  },
  {
   "cell_type": "code",
   "execution_count": 9,
   "id": "088fe958",
   "metadata": {},
   "outputs": [],
   "source": [
    "df.columns=[[\"TW_price\",\"TW_Return_rate\",\"SOX_Price\",\"SOX_Return_rate\"]]"
   ]
  },
  {
   "cell_type": "code",
   "execution_count": 10,
   "id": "6411613e",
   "metadata": {},
   "outputs": [],
   "source": [
    "# df.to_csv(\"Data.csv\")"
   ]
  },
  {
   "cell_type": "code",
   "execution_count": 11,
   "id": "df7e23e3",
   "metadata": {},
   "outputs": [],
   "source": [
    "df=pd.read_csv(\"Data.csv\",index_col='Date',parse_dates=True)"
   ]
  },
  {
   "cell_type": "code",
   "execution_count": 12,
   "id": "a8846375",
   "metadata": {},
   "outputs": [
    {
     "data": {
      "text/html": [
       "<div>\n",
       "<style scoped>\n",
       "    .dataframe tbody tr th:only-of-type {\n",
       "        vertical-align: middle;\n",
       "    }\n",
       "\n",
       "    .dataframe tbody tr th {\n",
       "        vertical-align: top;\n",
       "    }\n",
       "\n",
       "    .dataframe thead th {\n",
       "        text-align: right;\n",
       "    }\n",
       "</style>\n",
       "<table border=\"1\" class=\"dataframe\">\n",
       "  <thead>\n",
       "    <tr style=\"text-align: right;\">\n",
       "      <th></th>\n",
       "      <th>TW_price</th>\n",
       "      <th>TW_Return_rate</th>\n",
       "      <th>SOX_Price</th>\n",
       "      <th>SOX_Return_rate</th>\n",
       "    </tr>\n",
       "    <tr>\n",
       "      <th>Date</th>\n",
       "      <th></th>\n",
       "      <th></th>\n",
       "      <th></th>\n",
       "      <th></th>\n",
       "    </tr>\n",
       "  </thead>\n",
       "  <tbody>\n",
       "    <tr>\n",
       "      <th>2008-05-01</th>\n",
       "      <td>8619.08</td>\n",
       "      <td>NaN</td>\n",
       "      <td>415.2</td>\n",
       "      <td>NaN</td>\n",
       "    </tr>\n",
       "    <tr>\n",
       "      <th>2008-06-01</th>\n",
       "      <td>7523.54</td>\n",
       "      <td>-0.127106</td>\n",
       "      <td>368.2</td>\n",
       "      <td>-0.113198</td>\n",
       "    </tr>\n",
       "    <tr>\n",
       "      <th>2008-07-01</th>\n",
       "      <td>7024.06</td>\n",
       "      <td>-0.066389</td>\n",
       "      <td>340.9</td>\n",
       "      <td>-0.074144</td>\n",
       "    </tr>\n",
       "    <tr>\n",
       "      <th>2008-08-01</th>\n",
       "      <td>7046.11</td>\n",
       "      <td>0.003139</td>\n",
       "      <td>352.8</td>\n",
       "      <td>0.034908</td>\n",
       "    </tr>\n",
       "    <tr>\n",
       "      <th>2008-09-01</th>\n",
       "      <td>5719.28</td>\n",
       "      <td>-0.188307</td>\n",
       "      <td>306.9</td>\n",
       "      <td>-0.130102</td>\n",
       "    </tr>\n",
       "  </tbody>\n",
       "</table>\n",
       "</div>"
      ],
      "text/plain": [
       "            TW_price  TW_Return_rate  SOX_Price  SOX_Return_rate\n",
       "Date                                                            \n",
       "2008-05-01   8619.08             NaN      415.2              NaN\n",
       "2008-06-01   7523.54       -0.127106      368.2        -0.113198\n",
       "2008-07-01   7024.06       -0.066389      340.9        -0.074144\n",
       "2008-08-01   7046.11        0.003139      352.8         0.034908\n",
       "2008-09-01   5719.28       -0.188307      306.9        -0.130102"
      ]
     },
     "execution_count": 12,
     "metadata": {},
     "output_type": "execute_result"
    }
   ],
   "source": [
    "df.head()"
   ]
  },
  {
   "cell_type": "markdown",
   "id": "76f4ca30",
   "metadata": {},
   "source": [
    "## 資料視覺化"
   ]
  },
  {
   "cell_type": "code",
   "execution_count": 13,
   "id": "74c9a414",
   "metadata": {},
   "outputs": [
    {
     "data": {
      "image/png": "[encoded data removed]",
      "text/plain": [
       "<Figure size 1200x600 with 4 Axes>"
      ]
     },
     "metadata": {},
     "output_type": "display_data"
    }
   ],
   "source": [
    "# plt.figure(figsize=(12,6))\n",
    "# sns.set_style(\"whitegrid\")\n",
    "# sns.lineplot(data=df,x=df.index,y=df[\"TW_price\"],labels=Tr)\n",
    "# plt.legend()\n",
    "import seaborn as sns\n",
    "import matplotlib.pyplot as plt\n",
    "\n",
    "# Assuming you have already created the DataFrame named df\n",
    "\n",
    "# Set the style\n",
    "sns.set_style(\"whitegrid\")\n",
    "\n",
    "# Create subplots\n",
    "fig, axes = plt.subplots(nrows=2, ncols=2, figsize=(12, 6))\n",
    "\n",
    "# Plot TWII Price over time\n",
    "sns.lineplot(data=df[\"TW_price\"], ax=axes[0, 0], palette=\"tab10\", linewidth=2.5)\n",
    "axes[0, 0].set_title(\"TWII Price\", fontsize=16)\n",
    "axes[0, 0].set_xlabel(\"Date\", fontsize=14)\n",
    "axes[0, 0].set_ylabel(\"Price\", fontsize=14)\n",
    "axes[0, 0].tick_params(axis='x', rotation=90)\n",
    "\n",
    "# Plot SOX Price over time\n",
    "sns.lineplot(data=df[\"SOX_Price\"], ax=axes[0, 1], palette=\"tab10\", linewidth=2.5)\n",
    "axes[0, 1].set_title(\"SOX Price\", fontsize=16)\n",
    "axes[0, 1].set_xlabel(\"Date\", fontsize=14)\n",
    "axes[0, 1].set_ylabel(\"Price\", fontsize=14)\n",
    "axes[0, 1].tick_params(axis='x', rotation=90)\n",
    "\n",
    "# Plot TWII Return Rate over time\n",
    "sns.lineplot(data=df[\"TW_Return_rate\"], ax=axes[1, 0], palette=\"tab10\", linewidth=2.5)\n",
    "axes[1, 0].set_title(\"TWII Return Rate\", fontsize=16)\n",
    "axes[1, 0].set_xlabel(\"Date\", fontsize=14)\n",
    "axes[1, 0].set_ylabel(\"Return Rate\", fontsize=14)\n",
    "axes[1, 0].tick_params(axis='x', rotation=90)\n",
    "\n",
    "# Plot SOX Return Rate over time\n",
    "sns.lineplot(data=df[\"SOX_Return_rate\"], ax=axes[1, 1], palette=\"tab10\", linewidth=2.5)\n",
    "axes[1, 1].set_title(\"SOX Return Rate\", fontsize=16)\n",
    "axes[1, 1].set_xlabel(\"Date\", fontsize=14)\n",
    "axes[1, 1].set_ylabel(\"Return Rate\", fontsize=14)\n",
    "axes[1, 1].tick_params(axis='x', rotation=90)\n",
    "\n",
    "# Adjust layout\n",
    "plt.tight_layout()\n",
    "\n",
    "# Show the plots\n",
    "for i, ax in enumerate(axes.flatten()):\n",
    "    # Adjust the bounding box\n",
    "    extent = ax.get_tightbbox(fig.canvas.get_renderer()).transformed(fig.dpi_scale_trans.inverted())\n",
    "    fig.savefig(f'plot_{i+1}.png', bbox_inches=extent)\n",
    "\n",
    "# Show the plots\n",
    "plt.show()\n",
    "\n",
    "\n",
    "\n"
   ]
  },
  {
   "cell_type": "code",
   "execution_count": 118,
   "id": "17abb0ff",
   "metadata": {},
   "outputs": [
    {
     "data": {
      "image/png": "[encoded data removed]",
      "text/plain": [
       "<Figure size 1200x500 with 1 Axes>"
      ]
     },
     "metadata": {},
     "output_type": "display_data"
    }
   ],
   "source": [
    "title = 'TW_price vs SOX Price'\n",
    "ylabel='Point'\n",
    "xlabel=''\n",
    "\n",
    "ax = df['TW_price'].plot(figsize=(12,5),title=title,legend=True)\n",
    "ax.autoscale(axis='x',tight=True)\n",
    "ax.set(xlabel=xlabel, ylabel=ylabel)\n",
    "df['SOX_Price'].plot(legend=True);"
   ]
  },
  {
   "cell_type": "code",
   "execution_count": 14,
   "id": "e6d08fc5",
   "metadata": {},
   "outputs": [
    {
     "data": {
      "text/html": [
       "<div>\n",
       "<style scoped>\n",
       "    .dataframe tbody tr th:only-of-type {\n",
       "        vertical-align: middle;\n",
       "    }\n",
       "\n",
       "    .dataframe tbody tr th {\n",
       "        vertical-align: top;\n",
       "    }\n",
       "\n",
       "    .dataframe thead th {\n",
       "        text-align: right;\n",
       "    }\n",
       "</style>\n",
       "<table border=\"1\" class=\"dataframe\">\n",
       "  <thead>\n",
       "    <tr style=\"text-align: right;\">\n",
       "      <th></th>\n",
       "      <th>TW_price</th>\n",
       "      <th>TW_Return_rate</th>\n",
       "      <th>SOX_Price</th>\n",
       "      <th>SOX_Return_rate</th>\n",
       "    </tr>\n",
       "    <tr>\n",
       "      <th>Date</th>\n",
       "      <th></th>\n",
       "      <th></th>\n",
       "      <th></th>\n",
       "      <th></th>\n",
       "    </tr>\n",
       "  </thead>\n",
       "  <tbody>\n",
       "    <tr>\n",
       "      <th>2008-05-01</th>\n",
       "      <td>8619.08</td>\n",
       "      <td>NaN</td>\n",
       "      <td>415.2</td>\n",
       "      <td>NaN</td>\n",
       "    </tr>\n",
       "    <tr>\n",
       "      <th>2008-06-01</th>\n",
       "      <td>7523.54</td>\n",
       "      <td>-0.127106</td>\n",
       "      <td>368.2</td>\n",
       "      <td>-0.113198</td>\n",
       "    </tr>\n",
       "    <tr>\n",
       "      <th>2008-07-01</th>\n",
       "      <td>7024.06</td>\n",
       "      <td>-0.066389</td>\n",
       "      <td>340.9</td>\n",
       "      <td>-0.074144</td>\n",
       "    </tr>\n",
       "    <tr>\n",
       "      <th>2008-08-01</th>\n",
       "      <td>7046.11</td>\n",
       "      <td>0.003139</td>\n",
       "      <td>352.8</td>\n",
       "      <td>0.034908</td>\n",
       "    </tr>\n",
       "    <tr>\n",
       "      <th>2008-09-01</th>\n",
       "      <td>5719.28</td>\n",
       "      <td>-0.188307</td>\n",
       "      <td>306.9</td>\n",
       "      <td>-0.130102</td>\n",
       "    </tr>\n",
       "  </tbody>\n",
       "</table>\n",
       "</div>"
      ],
      "text/plain": [
       "            TW_price  TW_Return_rate  SOX_Price  SOX_Return_rate\n",
       "Date                                                            \n",
       "2008-05-01   8619.08             NaN      415.2              NaN\n",
       "2008-06-01   7523.54       -0.127106      368.2        -0.113198\n",
       "2008-07-01   7024.06       -0.066389      340.9        -0.074144\n",
       "2008-08-01   7046.11        0.003139      352.8         0.034908\n",
       "2008-09-01   5719.28       -0.188307      306.9        -0.130102"
      ]
     },
     "execution_count": 14,
     "metadata": {},
     "output_type": "execute_result"
    }
   ],
   "source": [
    "df.head()"
   ]
  },
  {
   "cell_type": "code",
   "execution_count": 15,
   "id": "97015f6c",
   "metadata": {},
   "outputs": [
    {
     "data": {
      "text/html": [
       "<div>\n",
       "<style scoped>\n",
       "    .dataframe tbody tr th:only-of-type {\n",
       "        vertical-align: middle;\n",
       "    }\n",
       "\n",
       "    .dataframe tbody tr th {\n",
       "        vertical-align: top;\n",
       "    }\n",
       "\n",
       "    .dataframe thead th {\n",
       "        text-align: right;\n",
       "    }\n",
       "</style>\n",
       "<table border=\"1\" class=\"dataframe\">\n",
       "  <thead>\n",
       "    <tr style=\"text-align: right;\">\n",
       "      <th></th>\n",
       "      <th>SOX_Price</th>\n",
       "      <th>TW_price</th>\n",
       "    </tr>\n",
       "    <tr>\n",
       "      <th>Date</th>\n",
       "      <th></th>\n",
       "      <th></th>\n",
       "    </tr>\n",
       "  </thead>\n",
       "  <tbody>\n",
       "    <tr>\n",
       "      <th>2008-06-01</th>\n",
       "      <td>368.2</td>\n",
       "      <td>7523.54</td>\n",
       "    </tr>\n",
       "    <tr>\n",
       "      <th>2008-07-01</th>\n",
       "      <td>340.9</td>\n",
       "      <td>7024.06</td>\n",
       "    </tr>\n",
       "    <tr>\n",
       "      <th>2008-08-01</th>\n",
       "      <td>352.8</td>\n",
       "      <td>7046.11</td>\n",
       "    </tr>\n",
       "    <tr>\n",
       "      <th>2008-09-01</th>\n",
       "      <td>306.9</td>\n",
       "      <td>5719.28</td>\n",
       "    </tr>\n",
       "    <tr>\n",
       "      <th>2008-10-01</th>\n",
       "      <td>239.5</td>\n",
       "      <td>4870.66</td>\n",
       "    </tr>\n",
       "    <tr>\n",
       "      <th>...</th>\n",
       "      <td>...</td>\n",
       "      <td>...</td>\n",
       "    </tr>\n",
       "    <tr>\n",
       "      <th>2024-01-01</th>\n",
       "      <td>4260.9</td>\n",
       "      <td>17889.56</td>\n",
       "    </tr>\n",
       "    <tr>\n",
       "      <th>2024-02-01</th>\n",
       "      <td>4726.9</td>\n",
       "      <td>18966.77</td>\n",
       "    </tr>\n",
       "    <tr>\n",
       "      <th>2024-03-01</th>\n",
       "      <td>4905.2</td>\n",
       "      <td>20294.45</td>\n",
       "    </tr>\n",
       "    <tr>\n",
       "      <th>2024-04-01</th>\n",
       "      <td>4673.3</td>\n",
       "      <td>20396.60</td>\n",
       "    </tr>\n",
       "    <tr>\n",
       "      <th>2024-05-01</th>\n",
       "      <td>4784.9</td>\n",
       "      <td>20330.32</td>\n",
       "    </tr>\n",
       "  </tbody>\n",
       "</table>\n",
       "<p>192 rows × 2 columns</p>\n",
       "</div>"
      ],
      "text/plain": [
       "            SOX_Price  TW_price\n",
       "Date                           \n",
       "2008-06-01      368.2   7523.54\n",
       "2008-07-01      340.9   7024.06\n",
       "2008-08-01      352.8   7046.11\n",
       "2008-09-01      306.9   5719.28\n",
       "2008-10-01      239.5   4870.66\n",
       "...               ...       ...\n",
       "2024-01-01     4260.9  17889.56\n",
       "2024-02-01     4726.9  18966.77\n",
       "2024-03-01     4905.2  20294.45\n",
       "2024-04-01     4673.3  20396.60\n",
       "2024-05-01     4784.9  20330.32\n",
       "\n",
       "[192 rows x 2 columns]"
      ]
     },
     "execution_count": 15,
     "metadata": {},
     "output_type": "execute_result"
    }
   ],
   "source": [
    "df.head()\n",
    "df=df.dropna()\n",
    "df[[\"SOX_Price\",\"TW_price\"]]"
   ]
  },
  {
   "cell_type": "code",
   "execution_count": 16,
   "id": "bcc1dcd4",
   "metadata": {},
   "outputs": [
    {
     "data": {
      "text/plain": [
       "TW_price           0\n",
       "TW_Return_rate     0\n",
       "SOX_Price          0\n",
       "SOX_Return_rate    0\n",
       "dtype: int64"
      ]
     },
     "execution_count": 16,
     "metadata": {},
     "output_type": "execute_result"
    }
   ],
   "source": [
    "df.isnull().sum()"
   ]
  },
  {
   "cell_type": "markdown",
   "id": "4f7311fa",
   "metadata": {},
   "source": [
    "## Granger causality test"
   ]
  },
  {
   "cell_type": "code",
   "execution_count": 17,
   "id": "9d173e90",
   "metadata": {},
   "outputs": [
    {
     "name": "stdout",
     "output_type": "stream",
     "text": [
      "Lag 1:\n",
      "Chi2 Test Result: (14.93698592287958, 0.0001111621803475549, 1)\n",
      "Lag 2:\n",
      "Chi2 Test Result: (15.313915961046327, 0.00047274332004362194, 2)\n",
      "Lag 3:\n",
      "Chi2 Test Result: (19.67077625524355, 0.00019860675489724597, 3)\n",
      "Lag 4:\n",
      "Chi2 Test Result: (22.49430027858386, 0.00015975696423733756, 4)\n",
      "Lag 5:\n",
      "Chi2 Test Result: (31.807904191513874, 6.484953775789239e-06, 5)\n",
      "Lag 6:\n",
      "Chi2 Test Result: (32.45320156422965, 1.335694129811724e-05, 6)\n",
      "Lag 7:\n",
      "Chi2 Test Result: (37.91527398107909, 3.1446488284088107e-06, 7)\n",
      "Lag 8:\n",
      "Chi2 Test Result: (49.63823183252763, 4.7958772296614976e-08, 8)\n",
      "Lag 9:\n",
      "Chi2 Test Result: (56.43277587340707, 6.48820342301415e-09, 9)\n",
      "Lag 10:\n",
      "Chi2 Test Result: (57.29302312601179, 1.1742305345091774e-08, 10)\n",
      "Lag 11:\n",
      "Chi2 Test Result: (56.91911443699641, 3.443414451937152e-08, 11)\n",
      "Lag 12:\n",
      "Chi2 Test Result: (60.8067473438201, 1.6082834749788452e-08, 12)\n"
     ]
    }
   ],
   "source": [
    "#非常好，可以看出TW_PRICE與SOX_PRICE具有因果關係\n",
    "\n",
    "results=grangercausalitytests(df[[\"TW_price\",\"SOX_Price\"]],maxlag=12,verbose=False)\n",
    "for lag in results.keys():\n",
    "    print(f\"Lag {lag}:\")\n",
    "    # 只輸出 ssr_chi2test 的結果\n",
    "    chi2_test_result = results[lag][0]['ssr_chi2test']\n",
    "    print(f\"Chi2 Test Result: {chi2_test_result}\")"
   ]
  },
  {
   "cell_type": "code",
   "execution_count": 18,
   "id": "33c11487",
   "metadata": {},
   "outputs": [
    {
     "name": "stdout",
     "output_type": "stream",
     "text": [
      "     Chi2 Test Statistic       P-Value\n",
      "Lag                                   \n",
      "1              14.936986  1.111622e-04\n",
      "2              15.313916  4.727433e-04\n",
      "3              19.670776  1.986068e-04\n",
      "4              22.494300  1.597570e-04\n",
      "5              31.807904  6.484954e-06\n",
      "6              32.453202  1.335694e-05\n",
      "7              37.915274  3.144649e-06\n",
      "8              49.638232  4.795877e-08\n",
      "9              56.432776  6.488203e-09\n",
      "10             57.293023  1.174231e-08\n",
      "11             56.919114  3.443414e-08\n",
      "12             60.806747  1.608283e-08\n"
     ]
    }
   ],
   "source": [
    "\n",
    "\n",
    "# 將結果轉換為 DataFrame\n",
    "results_dict = {\n",
    "    'Lag': [],\n",
    "    'Chi2 Test Statistic': [],\n",
    "    'P-Value': []\n",
    "}\n",
    "\n",
    "# 將每個 Lag 的結果添加到字典中\n",
    "for lag in results.keys():\n",
    "    chi2_test_result = results[lag][0]['ssr_chi2test']\n",
    "    results_dict['Lag'].append(lag)\n",
    "    results_dict['Chi2 Test Statistic'].append(chi2_test_result[0])\n",
    "    results_dict['P-Value'].append(chi2_test_result[1])\n",
    "    \n",
    "\n",
    "# 創建 DataFrame\n",
    "results_df = pd.DataFrame(results_dict)\n",
    "\n",
    "# 顯示 DataFrame\n",
    "results_df.set_index(\"Lag\",inplace=True)\n",
    "\n",
    "print(results_df)\n"
   ]
  },
  {
   "cell_type": "markdown",
   "id": "a0a34b57",
   "metadata": {},
   "source": [
    "## ADF-TEST(檢查資料室否定態)"
   ]
  },
  {
   "cell_type": "code",
   "execution_count": 19,
   "id": "69d6b842",
   "metadata": {},
   "outputs": [],
   "source": [
    "#檢定數據是否平穩 #DICKEY FULLY TEST\n",
    "\n",
    "def adf_test(series,title=''):\n",
    "    \"\"\"\n",
    "    Pass in a time series and an optional title, returns an ADF report\n",
    "    \"\"\"\n",
    "    print(f'Augmented Dickey-Fuller Test: {title}')\n",
    "    result = adfuller(series.dropna(),autolag='AIC') # .dropna() handles differenced data\n",
    "    \n",
    "    labels = ['ADF test statistic','p-value','# lags used','# observations']\n",
    "    out = pd.Series(result[0:4],index=labels)\n",
    "\n",
    "    for key,val in result[4].items():\n",
    "        out[f'critical value ({key})']=val\n",
    "        \n",
    "    print(out.to_string())          # .to_string() removes the line \"dtype: float64\"\n",
    "    \n",
    "    if result[1] <= 0.05:\n",
    "        print(\"Strong evidence against the null hypothesis\")\n",
    "        print(\"Reject the null hypothesis\")\n",
    "        print(\"Data has no unit root and is stationary\")\n",
    "    else:\n",
    "        print(\"Weak evidence against the null hypothesis\")\n",
    "        print(\"Fail to reject the null hypothesis\")\n",
    "        print(\"Data has a unit root and is non-stationary\")"
   ]
  },
  {
   "cell_type": "code",
   "execution_count": 20,
   "id": "b07f78cf",
   "metadata": {},
   "outputs": [
    {
     "name": "stdout",
     "output_type": "stream",
     "text": [
      "Augmented Dickey-Fuller Test: \n",
      "ADF test statistic        0.651686\n",
      "p-value                   0.988823\n",
      "# lags used               0.000000\n",
      "# observations          191.000000\n",
      "critical value (1%)      -3.465059\n",
      "critical value (5%)      -2.876794\n",
      "critical value (10%)     -2.574901\n",
      "Weak evidence against the null hypothesis\n",
      "Fail to reject the null hypothesis\n",
      "Data has a unit root and is non-stationary\n",
      "Augmented Dickey-Fuller Test: \n",
      "ADF test statistic        1.684657\n",
      "p-value                   0.998091\n",
      "# lags used              15.000000\n",
      "# observations          176.000000\n",
      "critical value (1%)      -3.468062\n",
      "critical value (5%)      -2.878106\n",
      "critical value (10%)     -2.575602\n",
      "Weak evidence against the null hypothesis\n",
      "Fail to reject the null hypothesis\n",
      "Data has a unit root and is non-stationary\n"
     ]
    },
    {
     "data": {
      "text/plain": [
       "(None, None)"
      ]
     },
     "execution_count": 20,
     "metadata": {},
     "output_type": "execute_result"
    }
   ],
   "source": [
    "adf_test(df[\"TW_price\"]),adf_test(df[\"SOX_Price\"])"
   ]
  },
  {
   "cell_type": "code",
   "execution_count": 21,
   "id": "d720b57b",
   "metadata": {},
   "outputs": [],
   "source": [
    "df_transformed = df.diff()"
   ]
  },
  {
   "cell_type": "code",
   "execution_count": 22,
   "id": "2a4ae8bf",
   "metadata": {},
   "outputs": [
    {
     "name": "stdout",
     "output_type": "stream",
     "text": [
      "Augmented Dickey-Fuller Test: TW_priceDiff\n",
      "ADF test statistic     -1.396122e+01\n",
      "p-value                 4.516379e-26\n",
      "# lags used             0.000000e+00\n",
      "# observations          1.900000e+02\n",
      "critical value (1%)    -3.465244e+00\n",
      "critical value (5%)    -2.876875e+00\n",
      "critical value (10%)   -2.574945e+00\n",
      "Strong evidence against the null hypothesis\n",
      "Reject the null hypothesis\n",
      "Data has no unit root and is stationary\n",
      "\n",
      "Augmented Dickey-Fuller Test: SOX_PriceDiff\n",
      "ADF test statistic       -2.767953\n",
      "p-value                   0.062999\n",
      "# lags used              13.000000\n",
      "# observations          177.000000\n",
      "critical value (1%)      -3.467845\n",
      "critical value (5%)      -2.878012\n",
      "critical value (10%)     -2.575551\n",
      "Weak evidence against the null hypothesis\n",
      "Fail to reject the null hypothesis\n",
      "Data has a unit root and is non-stationary\n"
     ]
    }
   ],
   "source": [
    "df_transformed = df_transformed.dropna()\n",
    "adf_test(df_transformed['TW_price'], title='TW_priceDiff')\n",
    "print()\n",
    "adf_test(df_transformed['SOX_Price'], title='SOX_PriceDiff')"
   ]
  },
  {
   "cell_type": "code",
   "execution_count": 23,
   "id": "7a71b690",
   "metadata": {},
   "outputs": [],
   "source": [
    "df_transformed2 = df_transformed.diff()"
   ]
  },
  {
   "cell_type": "code",
   "execution_count": 24,
   "id": "ea4ce811",
   "metadata": {},
   "outputs": [
    {
     "name": "stdout",
     "output_type": "stream",
     "text": [
      "Augmented Dickey-Fuller Test: TW_priceSECDiff\n",
      "ADF test statistic     -8.263171e+00\n",
      "p-value                 5.019370e-13\n",
      "# lags used             6.000000e+00\n",
      "# observations          1.830000e+02\n",
      "critical value (1%)    -3.466598e+00\n",
      "critical value (5%)    -2.877467e+00\n",
      "critical value (10%)   -2.575260e+00\n",
      "Strong evidence against the null hypothesis\n",
      "Reject the null hypothesis\n",
      "Data has no unit root and is stationary\n",
      "\n",
      "Augmented Dickey-Fuller Test: SOX_PriceSECDiff\n",
      "ADF test statistic       -5.211317\n",
      "p-value                   0.000008\n",
      "# lags used              12.000000\n",
      "# observations          177.000000\n",
      "critical value (1%)      -3.467845\n",
      "critical value (5%)      -2.878012\n",
      "critical value (10%)     -2.575551\n",
      "Strong evidence against the null hypothesis\n",
      "Reject the null hypothesis\n",
      "Data has no unit root and is stationary\n"
     ]
    }
   ],
   "source": [
    "df_transformed2 = df_transformed2.dropna()\n",
    "adf_test(df_transformed2['TW_price'], title='TW_priceSECDiff')\n",
    "print()\n",
    "adf_test(df_transformed2['SOX_Price'], title='SOX_PriceSECDiff')\n"
   ]
  },
  {
   "cell_type": "code",
   "execution_count": 25,
   "id": "9ce807b4",
   "metadata": {},
   "outputs": [
    {
     "data": {
      "text/html": [
       "<div>\n",
       "<style scoped>\n",
       "    .dataframe tbody tr th:only-of-type {\n",
       "        vertical-align: middle;\n",
       "    }\n",
       "\n",
       "    .dataframe tbody tr th {\n",
       "        vertical-align: top;\n",
       "    }\n",
       "\n",
       "    .dataframe thead th {\n",
       "        text-align: right;\n",
       "    }\n",
       "</style>\n",
       "<table border=\"1\" class=\"dataframe\">\n",
       "  <thead>\n",
       "    <tr style=\"text-align: right;\">\n",
       "      <th></th>\n",
       "      <th>TW_price</th>\n",
       "      <th>TW_Return_rate</th>\n",
       "      <th>SOX_Price</th>\n",
       "      <th>SOX_Return_rate</th>\n",
       "    </tr>\n",
       "    <tr>\n",
       "      <th>Date</th>\n",
       "      <th></th>\n",
       "      <th></th>\n",
       "      <th></th>\n",
       "      <th></th>\n",
       "    </tr>\n",
       "  </thead>\n",
       "  <tbody>\n",
       "    <tr>\n",
       "      <th>2008-08-01</th>\n",
       "      <td>521.53</td>\n",
       "      <td>0.008811</td>\n",
       "      <td>39.2</td>\n",
       "      <td>0.069998</td>\n",
       "    </tr>\n",
       "    <tr>\n",
       "      <th>2008-09-01</th>\n",
       "      <td>-1348.88</td>\n",
       "      <td>-0.260974</td>\n",
       "      <td>-57.8</td>\n",
       "      <td>-0.274062</td>\n",
       "    </tr>\n",
       "    <tr>\n",
       "      <th>2008-10-01</th>\n",
       "      <td>478.21</td>\n",
       "      <td>0.231374</td>\n",
       "      <td>-21.5</td>\n",
       "      <td>0.075496</td>\n",
       "    </tr>\n",
       "    <tr>\n",
       "      <th>2008-11-01</th>\n",
       "      <td>438.45</td>\n",
       "      <td>0.024238</td>\n",
       "      <td>26.1</td>\n",
       "      <td>0.136686</td>\n",
       "    </tr>\n",
       "    <tr>\n",
       "      <th>2008-12-01</th>\n",
       "      <td>540.90</td>\n",
       "      <td>0.049354</td>\n",
       "      <td>55.3</td>\n",
       "      <td>0.195905</td>\n",
       "    </tr>\n",
       "  </tbody>\n",
       "</table>\n",
       "</div>"
      ],
      "text/plain": [
       "            TW_price  TW_Return_rate  SOX_Price  SOX_Return_rate\n",
       "Date                                                            \n",
       "2008-08-01    521.53        0.008811       39.2         0.069998\n",
       "2008-09-01  -1348.88       -0.260974      -57.8        -0.274062\n",
       "2008-10-01    478.21        0.231374      -21.5         0.075496\n",
       "2008-11-01    438.45        0.024238       26.1         0.136686\n",
       "2008-12-01    540.90        0.049354       55.3         0.195905"
      ]
     },
     "execution_count": 25,
     "metadata": {},
     "output_type": "execute_result"
    }
   ],
   "source": [
    "df_transformed2.head()"
   ]
  },
  {
   "cell_type": "markdown",
   "id": "d7f26b57",
   "metadata": {},
   "source": [
    "# 準備把資料分為訓練集與測試集，這邊我們把測試集用一年的長度也就是12筆資料\n",
    "\n",
    "\n",
    "\n",
    "\n",
    "\n",
    "\n"
   ]
  },
  {
   "cell_type": "code",
   "execution_count": 26,
   "id": "8738147c",
   "metadata": {},
   "outputs": [],
   "source": [
    "df_transformed=df_transformed2[[\"TW_price\",\"SOX_Price\",]]\n",
    "nobs=12\n",
    "train, test = df_transformed[0:-nobs], df_transformed[-nobs:]"
   ]
  },
  {
   "cell_type": "code",
   "execution_count": 27,
   "id": "24b38d10",
   "metadata": {},
   "outputs": [
    {
     "data": {
      "text/html": [
       "<div>\n",
       "<style scoped>\n",
       "    .dataframe tbody tr th:only-of-type {\n",
       "        vertical-align: middle;\n",
       "    }\n",
       "\n",
       "    .dataframe tbody tr th {\n",
       "        vertical-align: top;\n",
       "    }\n",
       "\n",
       "    .dataframe thead th {\n",
       "        text-align: right;\n",
       "    }\n",
       "</style>\n",
       "<table border=\"1\" class=\"dataframe\">\n",
       "  <thead>\n",
       "    <tr style=\"text-align: right;\">\n",
       "      <th></th>\n",
       "      <th>TW_price</th>\n",
       "      <th>SOX_Price</th>\n",
       "    </tr>\n",
       "    <tr>\n",
       "      <th>Date</th>\n",
       "      <th></th>\n",
       "      <th></th>\n",
       "    </tr>\n",
       "  </thead>\n",
       "  <tbody>\n",
       "    <tr>\n",
       "      <th>2008-08-01</th>\n",
       "      <td>521.53</td>\n",
       "      <td>39.2</td>\n",
       "    </tr>\n",
       "    <tr>\n",
       "      <th>2008-09-01</th>\n",
       "      <td>-1348.88</td>\n",
       "      <td>-57.8</td>\n",
       "    </tr>\n",
       "    <tr>\n",
       "      <th>2008-10-01</th>\n",
       "      <td>478.21</td>\n",
       "      <td>-21.5</td>\n",
       "    </tr>\n",
       "    <tr>\n",
       "      <th>2008-11-01</th>\n",
       "      <td>438.45</td>\n",
       "      <td>26.1</td>\n",
       "    </tr>\n",
       "    <tr>\n",
       "      <th>2008-12-01</th>\n",
       "      <td>540.90</td>\n",
       "      <td>55.3</td>\n",
       "    </tr>\n",
       "    <tr>\n",
       "      <th>...</th>\n",
       "      <td>...</td>\n",
       "      <td>...</td>\n",
       "    </tr>\n",
       "    <tr>\n",
       "      <th>2023-01-01</th>\n",
       "      <td>1869.37</td>\n",
       "      <td>684.5</td>\n",
       "    </tr>\n",
       "    <tr>\n",
       "      <th>2023-02-01</th>\n",
       "      <td>-888.92</td>\n",
       "      <td>-353.3</td>\n",
       "    </tr>\n",
       "    <tr>\n",
       "      <th>2023-03-01</th>\n",
       "      <td>125.68</td>\n",
       "      <td>236.0</td>\n",
       "    </tr>\n",
       "    <tr>\n",
       "      <th>2023-04-01</th>\n",
       "      <td>-653.15</td>\n",
       "      <td>-508.4</td>\n",
       "    </tr>\n",
       "    <tr>\n",
       "      <th>2023-05-01</th>\n",
       "      <td>1288.66</td>\n",
       "      <td>694.1</td>\n",
       "    </tr>\n",
       "  </tbody>\n",
       "</table>\n",
       "<p>178 rows × 2 columns</p>\n",
       "</div>"
      ],
      "text/plain": [
       "            TW_price  SOX_Price\n",
       "Date                           \n",
       "2008-08-01    521.53       39.2\n",
       "2008-09-01  -1348.88      -57.8\n",
       "2008-10-01    478.21      -21.5\n",
       "2008-11-01    438.45       26.1\n",
       "2008-12-01    540.90       55.3\n",
       "...              ...        ...\n",
       "2023-01-01   1869.37      684.5\n",
       "2023-02-01   -888.92     -353.3\n",
       "2023-03-01    125.68      236.0\n",
       "2023-04-01   -653.15     -508.4\n",
       "2023-05-01   1288.66      694.1\n",
       "\n",
       "[178 rows x 2 columns]"
      ]
     },
     "execution_count": 27,
     "metadata": {},
     "output_type": "execute_result"
    }
   ],
   "source": [
    "train"
   ]
  },
  {
   "cell_type": "code",
   "execution_count": 28,
   "id": "40779b87",
   "metadata": {},
   "outputs": [
    {
     "name": "stdout",
     "output_type": "stream",
     "text": [
      "(178, 2)\n",
      "(12, 2)\n"
     ]
    }
   ],
   "source": [
    "print(train.shape)\n",
    "print(test.shape)"
   ]
  },
  {
   "cell_type": "code",
   "execution_count": 29,
   "id": "ecd48a3e",
   "metadata": {},
   "outputs": [
    {
     "name": "stdout",
     "output_type": "stream",
     "text": [
      "Order = 1\n",
      "AIC:  22.177493685151266\n",
      "\n",
      "Order = 2\n",
      "AIC:  21.93390486547844\n",
      "\n",
      "Order = 3\n",
      "AIC:  21.74517526712444\n",
      "\n",
      "Order = 4\n",
      "AIC:  21.76363040522663\n",
      "\n",
      "Order = 5\n",
      "AIC:  21.752792032162407\n",
      "\n",
      "Order = 6\n",
      "AIC:  21.67601845052763\n",
      "\n",
      "Order = 7\n",
      "AIC:  21.684321510123343\n",
      "\n"
     ]
    }
   ],
   "source": [
    "for i in [1,2,3,4,5,6,7]:\n",
    "    model = VAR(train)\n",
    "    results = model.fit(i)\n",
    "    print('Order =', i)\n",
    "    print('AIC: ', results.aic)\n",
    "    print()"
   ]
  },
  {
   "cell_type": "code",
   "execution_count": 37,
   "id": "6af7f96f",
   "metadata": {},
   "outputs": [
    {
     "data": {
      "text/plain": [
       "['TW_price', 'SOX_Price']"
      ]
     },
     "execution_count": 37,
     "metadata": {},
     "output_type": "execute_result"
    }
   ],
   "source": [
    "model.endog_names"
   ]
  },
  {
   "cell_type": "markdown",
   "id": "514368d7",
   "metadata": {},
   "source": [
    "### 看起來aic 6 是最佳方案，那我們使用VAR(6)model"
   ]
  },
  {
   "cell_type": "code",
   "execution_count": 38,
   "id": "b65573a3",
   "metadata": {},
   "outputs": [
    {
     "data": {
      "text/plain": [
       "  Summary of Regression Results   \n",
       "==================================\n",
       "Model:                         VAR\n",
       "Method:                        OLS\n",
       "Date:           Mon, 03, Jun, 2024\n",
       "Time:                     02:51:16\n",
       "--------------------------------------------------------------------\n",
       "No. of Equations:         2.00000    BIC:                    22.1518\n",
       "Nobs:                     172.000    HQIC:                   21.8691\n",
       "Log likelihood:          -2326.25    FPE:                2.59434e+09\n",
       "AIC:                      21.6760    Det(Omega_mle):     2.24254e+09\n",
       "--------------------------------------------------------------------\n",
       "Results for equation TW_price\n",
       "===============================================================================\n",
       "                  coefficient       std. error           t-stat            prob\n",
       "-------------------------------------------------------------------------------\n",
       "const               15.272891        39.666578            0.385           0.700\n",
       "L1.TW_price         -1.037200         0.106487           -9.740           0.000\n",
       "L1.SOX_Price         0.679163         0.442870            1.534           0.125\n",
       "L2.TW_price         -0.655453         0.142788           -4.590           0.000\n",
       "L2.SOX_Price         0.461566         0.662909            0.696           0.486\n",
       "L3.TW_price         -0.455244         0.153238           -2.971           0.003\n",
       "L3.SOX_Price         0.569883         0.760753            0.749           0.454\n",
       "L4.TW_price         -0.427087         0.150627           -2.835           0.005\n",
       "L4.SOX_Price         1.025198         0.758748            1.351           0.177\n",
       "L5.TW_price         -0.486885         0.136578           -3.565           0.000\n",
       "L5.SOX_Price         1.086531         0.653885            1.662           0.097\n",
       "L6.TW_price         -0.366103         0.101488           -3.607           0.000\n",
       "L6.SOX_Price         1.493186         0.444335            3.360           0.001\n",
       "===============================================================================\n",
       "\n",
       "Results for equation SOX_Price\n",
       "===============================================================================\n",
       "                  coefficient       std. error           t-stat            prob\n",
       "-------------------------------------------------------------------------------\n",
       "const                4.828644         9.582840            0.504           0.614\n",
       "L1.TW_price         -0.043269         0.025726           -1.682           0.093\n",
       "L1.SOX_Price        -1.020495         0.106991           -9.538           0.000\n",
       "L2.TW_price         -0.009845         0.034496           -0.285           0.775\n",
       "L2.SOX_Price        -0.870880         0.160149           -5.438           0.000\n",
       "L3.TW_price         -0.019705         0.037020           -0.532           0.595\n",
       "L3.SOX_Price        -0.621479         0.183786           -3.382           0.001\n",
       "L4.TW_price         -0.060416         0.036389           -1.660           0.097\n",
       "L4.SOX_Price        -0.180336         0.183302           -0.984           0.325\n",
       "L5.TW_price         -0.098568         0.032995           -2.987           0.003\n",
       "L5.SOX_Price        -0.010288         0.157969           -0.065           0.948\n",
       "L6.TW_price         -0.093723         0.024518           -3.823           0.000\n",
       "L6.SOX_Price         0.215882         0.107345            2.011           0.044\n",
       "===============================================================================\n",
       "\n",
       "Correlation matrix of residuals\n",
       "             TW_price  SOX_Price\n",
       "TW_price     1.000000   0.686006\n",
       "SOX_Price    0.686006   1.000000\n",
       "\n"
      ]
     },
     "execution_count": 38,
     "metadata": {},
     "output_type": "execute_result"
    }
   ],
   "source": [
    "results = model.fit(6)\n",
    "results.summary()"
   ]
  },
  {
   "cell_type": "code",
   "execution_count": 39,
   "id": "3b5c82a8",
   "metadata": {},
   "outputs": [
    {
     "name": "stdout",
     "output_type": "stream",
     "text": [
      "               TW_price  SOX_Price\n",
      "const         15.272891   4.828644\n",
      "L1.TW_price   -1.037200  -0.043269\n",
      "L1.SOX_Price   0.679163  -1.020495\n",
      "L2.TW_price   -0.655453  -0.009845\n",
      "L2.SOX_Price   0.461566  -0.870880\n",
      "L3.TW_price   -0.455244  -0.019705\n",
      "L3.SOX_Price   0.569883  -0.621479\n",
      "L4.TW_price   -0.427087  -0.060416\n",
      "L4.SOX_Price   1.025198  -0.180336\n",
      "L5.TW_price   -0.486885  -0.098568\n",
      "L5.SOX_Price   1.086531  -0.010288\n",
      "L6.TW_price   -0.366103  -0.093723\n",
      "L6.SOX_Price   1.493186   0.215882\n"
     ]
    }
   ],
   "source": [
    "df2=results.params\n",
    "print(df2)"
   ]
  },
  {
   "cell_type": "markdown",
   "id": "9e7612c0",
   "metadata": {},
   "source": [
    "## 預測一年的資料"
   ]
  },
  {
   "cell_type": "code",
   "execution_count": 40,
   "id": "e86349eb",
   "metadata": {},
   "outputs": [
    {
     "data": {
      "text/plain": [
       "6"
      ]
     },
     "execution_count": 40,
     "metadata": {},
     "output_type": "execute_result"
    }
   ],
   "source": [
    "lag_order = results.k_ar\n",
    "lag_order"
   ]
  },
  {
   "cell_type": "code",
   "execution_count": 41,
   "id": "509e2c8d",
   "metadata": {},
   "outputs": [
    {
     "data": {
      "text/plain": [
       "array([[-850.56031799, -441.8107144 ],\n",
       "       [ 655.64760366,  217.833599  ],\n",
       "       [-603.47671407, -186.09435579],\n",
       "       [ 554.25717135,  221.77597654],\n",
       "       [-756.62804755, -277.40565437],\n",
       "       [ 961.42132001,  288.1624121 ],\n",
       "       [-908.14782236, -243.06455799],\n",
       "       [ 648.83023687,  192.55631341],\n",
       "       [-364.40227028, -141.94976578],\n",
       "       [ 315.36494075,  123.64163594],\n",
       "       [-393.71202671, -128.24253921],\n",
       "       [ 448.56050462,  127.54519514]])"
      ]
     },
     "execution_count": 41,
     "metadata": {},
     "output_type": "execute_result"
    }
   ],
   "source": [
    "z = results.forecast(y=train.values[-lag_order:], steps=12)\n",
    "z"
   ]
  },
  {
   "cell_type": "code",
   "execution_count": 42,
   "id": "5508101d",
   "metadata": {},
   "outputs": [
    {
     "data": {
      "text/html": [
       "<div>\n",
       "<style scoped>\n",
       "    .dataframe tbody tr th:only-of-type {\n",
       "        vertical-align: middle;\n",
       "    }\n",
       "\n",
       "    .dataframe tbody tr th {\n",
       "        vertical-align: top;\n",
       "    }\n",
       "\n",
       "    .dataframe thead th {\n",
       "        text-align: right;\n",
       "    }\n",
       "</style>\n",
       "<table border=\"1\" class=\"dataframe\">\n",
       "  <thead>\n",
       "    <tr style=\"text-align: right;\">\n",
       "      <th></th>\n",
       "      <th>TW_price</th>\n",
       "      <th>SOX_Price</th>\n",
       "    </tr>\n",
       "    <tr>\n",
       "      <th>Date</th>\n",
       "      <th></th>\n",
       "      <th></th>\n",
       "    </tr>\n",
       "  </thead>\n",
       "  <tbody>\n",
       "    <tr>\n",
       "      <th>2023-06-01</th>\n",
       "      <td>-663.20</td>\n",
       "      <td>-238.3</td>\n",
       "    </tr>\n",
       "    <tr>\n",
       "      <th>2023-07-01</th>\n",
       "      <td>-106.69</td>\n",
       "      <td>-31.4</td>\n",
       "    </tr>\n",
       "    <tr>\n",
       "      <th>2023-08-01</th>\n",
       "      <td>-740.81</td>\n",
       "      <td>-379.2</td>\n",
       "    </tr>\n",
       "    <tr>\n",
       "      <th>2023-09-01</th>\n",
       "      <td>230.15</td>\n",
       "      <td>-45.9</td>\n",
       "    </tr>\n",
       "    <tr>\n",
       "      <th>2023-10-01</th>\n",
       "      <td>-71.70</td>\n",
       "      <td>18.2</td>\n",
       "    </tr>\n",
       "    <tr>\n",
       "      <th>2023-11-01</th>\n",
       "      <td>1785.05</td>\n",
       "      <td>727.1</td>\n",
       "    </tr>\n",
       "    <tr>\n",
       "      <th>2023-12-01</th>\n",
       "      <td>-935.62</td>\n",
       "      <td>-57.8</td>\n",
       "    </tr>\n",
       "    <tr>\n",
       "      <th>2024-01-01</th>\n",
       "      <td>-538.21</td>\n",
       "      <td>-365.5</td>\n",
       "    </tr>\n",
       "    <tr>\n",
       "      <th>2024-02-01</th>\n",
       "      <td>1118.46</td>\n",
       "      <td>380.6</td>\n",
       "    </tr>\n",
       "    <tr>\n",
       "      <th>2024-03-01</th>\n",
       "      <td>250.47</td>\n",
       "      <td>-287.7</td>\n",
       "    </tr>\n",
       "    <tr>\n",
       "      <th>2024-04-01</th>\n",
       "      <td>-1225.53</td>\n",
       "      <td>-410.2</td>\n",
       "    </tr>\n",
       "    <tr>\n",
       "      <th>2024-05-01</th>\n",
       "      <td>-168.43</td>\n",
       "      <td>343.5</td>\n",
       "    </tr>\n",
       "  </tbody>\n",
       "</table>\n",
       "</div>"
      ],
      "text/plain": [
       "            TW_price  SOX_Price\n",
       "Date                           \n",
       "2023-06-01   -663.20     -238.3\n",
       "2023-07-01   -106.69      -31.4\n",
       "2023-08-01   -740.81     -379.2\n",
       "2023-09-01    230.15      -45.9\n",
       "2023-10-01    -71.70       18.2\n",
       "2023-11-01   1785.05      727.1\n",
       "2023-12-01   -935.62      -57.8\n",
       "2024-01-01   -538.21     -365.5\n",
       "2024-02-01   1118.46      380.6\n",
       "2024-03-01    250.47     -287.7\n",
       "2024-04-01  -1225.53     -410.2\n",
       "2024-05-01   -168.43      343.5"
      ]
     },
     "execution_count": 42,
     "metadata": {},
     "output_type": "execute_result"
    }
   ],
   "source": [
    "test"
   ]
  },
  {
   "cell_type": "code",
   "execution_count": 44,
   "id": "7742ea87",
   "metadata": {},
   "outputs": [
    {
     "data": {
      "text/html": [
       "<div>\n",
       "<style scoped>\n",
       "    .dataframe tbody tr th:only-of-type {\n",
       "        vertical-align: middle;\n",
       "    }\n",
       "\n",
       "    .dataframe tbody tr th {\n",
       "        vertical-align: top;\n",
       "    }\n",
       "\n",
       "    .dataframe thead th {\n",
       "        text-align: right;\n",
       "    }\n",
       "</style>\n",
       "<table border=\"1\" class=\"dataframe\">\n",
       "  <thead>\n",
       "    <tr style=\"text-align: right;\">\n",
       "      <th></th>\n",
       "      <th>TW_price2d</th>\n",
       "      <th>SOX_Price2d</th>\n",
       "    </tr>\n",
       "  </thead>\n",
       "  <tbody>\n",
       "    <tr>\n",
       "      <th>2023-06-01</th>\n",
       "      <td>-850.560318</td>\n",
       "      <td>-441.810714</td>\n",
       "    </tr>\n",
       "    <tr>\n",
       "      <th>2023-07-01</th>\n",
       "      <td>655.647604</td>\n",
       "      <td>217.833599</td>\n",
       "    </tr>\n",
       "    <tr>\n",
       "      <th>2023-08-01</th>\n",
       "      <td>-603.476714</td>\n",
       "      <td>-186.094356</td>\n",
       "    </tr>\n",
       "    <tr>\n",
       "      <th>2023-09-01</th>\n",
       "      <td>554.257171</td>\n",
       "      <td>221.775977</td>\n",
       "    </tr>\n",
       "    <tr>\n",
       "      <th>2023-10-01</th>\n",
       "      <td>-756.628048</td>\n",
       "      <td>-277.405654</td>\n",
       "    </tr>\n",
       "    <tr>\n",
       "      <th>2023-11-01</th>\n",
       "      <td>961.421320</td>\n",
       "      <td>288.162412</td>\n",
       "    </tr>\n",
       "    <tr>\n",
       "      <th>2023-12-01</th>\n",
       "      <td>-908.147822</td>\n",
       "      <td>-243.064558</td>\n",
       "    </tr>\n",
       "    <tr>\n",
       "      <th>2024-01-01</th>\n",
       "      <td>648.830237</td>\n",
       "      <td>192.556313</td>\n",
       "    </tr>\n",
       "    <tr>\n",
       "      <th>2024-02-01</th>\n",
       "      <td>-364.402270</td>\n",
       "      <td>-141.949766</td>\n",
       "    </tr>\n",
       "    <tr>\n",
       "      <th>2024-03-01</th>\n",
       "      <td>315.364941</td>\n",
       "      <td>123.641636</td>\n",
       "    </tr>\n",
       "    <tr>\n",
       "      <th>2024-04-01</th>\n",
       "      <td>-393.712027</td>\n",
       "      <td>-128.242539</td>\n",
       "    </tr>\n",
       "    <tr>\n",
       "      <th>2024-05-01</th>\n",
       "      <td>448.560505</td>\n",
       "      <td>127.545195</td>\n",
       "    </tr>\n",
       "  </tbody>\n",
       "</table>\n",
       "</div>"
      ],
      "text/plain": [
       "            TW_price2d  SOX_Price2d\n",
       "2023-06-01 -850.560318  -441.810714\n",
       "2023-07-01  655.647604   217.833599\n",
       "2023-08-01 -603.476714  -186.094356\n",
       "2023-09-01  554.257171   221.775977\n",
       "2023-10-01 -756.628048  -277.405654\n",
       "2023-11-01  961.421320   288.162412\n",
       "2023-12-01 -908.147822  -243.064558\n",
       "2024-01-01  648.830237   192.556313\n",
       "2024-02-01 -364.402270  -141.949766\n",
       "2024-03-01  315.364941   123.641636\n",
       "2024-04-01 -393.712027  -128.242539\n",
       "2024-05-01  448.560505   127.545195"
      ]
     },
     "execution_count": 44,
     "metadata": {},
     "output_type": "execute_result"
    }
   ],
   "source": [
    "idx = pd.date_range('6/1/2023', periods=12, freq='MS')\n",
    "df_forecast = pd.DataFrame(z, index=idx, columns=['TW_price2d','SOX_Price2d'])\n",
    "df_forecast"
   ]
  },
  {
   "cell_type": "markdown",
   "id": "70a4e362",
   "metadata": {},
   "source": [
    "## 預測的結果是二階差分，我們要把他轉回原本的方式，這邊參考別人的coding我不會哈哈"
   ]
  },
  {
   "cell_type": "code",
   "execution_count": 45,
   "id": "c3526495",
   "metadata": {},
   "outputs": [],
   "source": [
    "# Add the most recent first difference from the training side of the original dataset to the forecast cumulative sum\n",
    "df_forecast['TW_price1d'] = (df['TW_price'].iloc[-nobs-1]-df['TW_price'].iloc[-nobs-2]) + df_forecast['TW_price2d'].cumsum()\n",
    "\n",
    "# Now build the forecast values from the first difference set\n",
    "df_forecast['TW_priceForecast'] = df['TW_price'].iloc[-nobs-1] + df_forecast['TW_price1d'].cumsum()"
   ]
  },
  {
   "cell_type": "code",
   "execution_count": 46,
   "id": "a1fcd7f1",
   "metadata": {},
   "outputs": [],
   "source": [
    "# Add the most recent first difference from the training side of the original dataset to the forecast cumulative sum\n",
    "df_forecast['SOX_Price1d'] = (df['SOX_Price'].iloc[-nobs-1]-df['SOX_Price'].iloc[-nobs-2]) + df_forecast['SOX_Price2d'].cumsum()\n",
    "\n",
    "# Now build the forecast values from the first difference set\n",
    "df_forecast['SOX_PriceForecast'] = df['SOX_Price'].iloc[-nobs-1] + df_forecast['SOX_Price1d'].cumsum()"
   ]
  },
  {
   "cell_type": "code",
   "execution_count": 47,
   "id": "da20e7dd",
   "metadata": {},
   "outputs": [
    {
     "data": {
      "text/html": [
       "<div>\n",
       "<style scoped>\n",
       "    .dataframe tbody tr th:only-of-type {\n",
       "        vertical-align: middle;\n",
       "    }\n",
       "\n",
       "    .dataframe tbody tr th {\n",
       "        vertical-align: top;\n",
       "    }\n",
       "\n",
       "    .dataframe thead th {\n",
       "        text-align: right;\n",
       "    }\n",
       "</style>\n",
       "<table border=\"1\" class=\"dataframe\">\n",
       "  <thead>\n",
       "    <tr style=\"text-align: right;\">\n",
       "      <th></th>\n",
       "      <th>TW_price2d</th>\n",
       "      <th>SOX_Price2d</th>\n",
       "      <th>TW_price1d</th>\n",
       "      <th>TW_priceForecast</th>\n",
       "      <th>SOX_Price1d</th>\n",
       "      <th>SOX_PriceForecast</th>\n",
       "    </tr>\n",
       "  </thead>\n",
       "  <tbody>\n",
       "    <tr>\n",
       "      <th>2023-06-01</th>\n",
       "      <td>-850.560318</td>\n",
       "      <td>-441.810714</td>\n",
       "      <td>149.219682</td>\n",
       "      <td>16728.179682</td>\n",
       "      <td>16.389286</td>\n",
       "      <td>3469.589286</td>\n",
       "    </tr>\n",
       "    <tr>\n",
       "      <th>2023-07-01</th>\n",
       "      <td>655.647604</td>\n",
       "      <td>217.833599</td>\n",
       "      <td>804.867286</td>\n",
       "      <td>17533.046968</td>\n",
       "      <td>234.222885</td>\n",
       "      <td>3703.812170</td>\n",
       "    </tr>\n",
       "    <tr>\n",
       "      <th>2023-08-01</th>\n",
       "      <td>-603.476714</td>\n",
       "      <td>-186.094356</td>\n",
       "      <td>201.390572</td>\n",
       "      <td>17734.437539</td>\n",
       "      <td>48.128529</td>\n",
       "      <td>3751.940699</td>\n",
       "    </tr>\n",
       "    <tr>\n",
       "      <th>2023-09-01</th>\n",
       "      <td>554.257171</td>\n",
       "      <td>221.775977</td>\n",
       "      <td>755.647743</td>\n",
       "      <td>18490.085282</td>\n",
       "      <td>269.904505</td>\n",
       "      <td>4021.845204</td>\n",
       "    </tr>\n",
       "    <tr>\n",
       "      <th>2023-10-01</th>\n",
       "      <td>-756.628048</td>\n",
       "      <td>-277.405654</td>\n",
       "      <td>-0.980305</td>\n",
       "      <td>18489.104978</td>\n",
       "      <td>-7.501149</td>\n",
       "      <td>4014.344055</td>\n",
       "    </tr>\n",
       "    <tr>\n",
       "      <th>2023-11-01</th>\n",
       "      <td>961.421320</td>\n",
       "      <td>288.162412</td>\n",
       "      <td>960.441015</td>\n",
       "      <td>19449.545993</td>\n",
       "      <td>280.661263</td>\n",
       "      <td>4295.005318</td>\n",
       "    </tr>\n",
       "    <tr>\n",
       "      <th>2023-12-01</th>\n",
       "      <td>-908.147822</td>\n",
       "      <td>-243.064558</td>\n",
       "      <td>52.293193</td>\n",
       "      <td>19501.839186</td>\n",
       "      <td>37.596705</td>\n",
       "      <td>4332.602024</td>\n",
       "    </tr>\n",
       "    <tr>\n",
       "      <th>2024-01-01</th>\n",
       "      <td>648.830237</td>\n",
       "      <td>192.556313</td>\n",
       "      <td>701.123430</td>\n",
       "      <td>20202.962616</td>\n",
       "      <td>230.153019</td>\n",
       "      <td>4562.755042</td>\n",
       "    </tr>\n",
       "    <tr>\n",
       "      <th>2024-02-01</th>\n",
       "      <td>-364.402270</td>\n",
       "      <td>-141.949766</td>\n",
       "      <td>336.721160</td>\n",
       "      <td>20539.683776</td>\n",
       "      <td>88.203253</td>\n",
       "      <td>4650.958295</td>\n",
       "    </tr>\n",
       "    <tr>\n",
       "      <th>2024-03-01</th>\n",
       "      <td>315.364941</td>\n",
       "      <td>123.641636</td>\n",
       "      <td>652.086100</td>\n",
       "      <td>21191.769876</td>\n",
       "      <td>211.844889</td>\n",
       "      <td>4862.803183</td>\n",
       "    </tr>\n",
       "    <tr>\n",
       "      <th>2024-04-01</th>\n",
       "      <td>-393.712027</td>\n",
       "      <td>-128.242539</td>\n",
       "      <td>258.374074</td>\n",
       "      <td>21450.143950</td>\n",
       "      <td>83.602349</td>\n",
       "      <td>4946.405533</td>\n",
       "    </tr>\n",
       "    <tr>\n",
       "      <th>2024-05-01</th>\n",
       "      <td>448.560505</td>\n",
       "      <td>127.545195</td>\n",
       "      <td>706.934578</td>\n",
       "      <td>22157.078528</td>\n",
       "      <td>211.147545</td>\n",
       "      <td>5157.553077</td>\n",
       "    </tr>\n",
       "  </tbody>\n",
       "</table>\n",
       "</div>"
      ],
      "text/plain": [
       "            TW_price2d  SOX_Price2d  TW_price1d  TW_priceForecast  \\\n",
       "2023-06-01 -850.560318  -441.810714  149.219682      16728.179682   \n",
       "2023-07-01  655.647604   217.833599  804.867286      17533.046968   \n",
       "2023-08-01 -603.476714  -186.094356  201.390572      17734.437539   \n",
       "2023-09-01  554.257171   221.775977  755.647743      18490.085282   \n",
       "2023-10-01 -756.628048  -277.405654   -0.980305      18489.104978   \n",
       "2023-11-01  961.421320   288.162412  960.441015      19449.545993   \n",
       "2023-12-01 -908.147822  -243.064558   52.293193      19501.839186   \n",
       "2024-01-01  648.830237   192.556313  701.123430      20202.962616   \n",
       "2024-02-01 -364.402270  -141.949766  336.721160      20539.683776   \n",
       "2024-03-01  315.364941   123.641636  652.086100      21191.769876   \n",
       "2024-04-01 -393.712027  -128.242539  258.374074      21450.143950   \n",
       "2024-05-01  448.560505   127.545195  706.934578      22157.078528   \n",
       "\n",
       "            SOX_Price1d  SOX_PriceForecast  \n",
       "2023-06-01    16.389286        3469.589286  \n",
       "2023-07-01   234.222885        3703.812170  \n",
       "2023-08-01    48.128529        3751.940699  \n",
       "2023-09-01   269.904505        4021.845204  \n",
       "2023-10-01    -7.501149        4014.344055  \n",
       "2023-11-01   280.661263        4295.005318  \n",
       "2023-12-01    37.596705        4332.602024  \n",
       "2024-01-01   230.153019        4562.755042  \n",
       "2024-02-01    88.203253        4650.958295  \n",
       "2024-03-01   211.844889        4862.803183  \n",
       "2024-04-01    83.602349        4946.405533  \n",
       "2024-05-01   211.147545        5157.553077  "
      ]
     },
     "execution_count": 47,
     "metadata": {},
     "output_type": "execute_result"
    }
   ],
   "source": [
    "df_forecast"
   ]
  },
  {
   "cell_type": "code",
   "execution_count": 53,
   "id": "9906ad35",
   "metadata": {},
   "outputs": [],
   "source": [
    "df_1=df_forecast[[\"TW_priceForecast\",\"SOX_PriceForecast\"]]\n",
    "df_2=df[[\"TW_price\",\"SOX_Price\"]]"
   ]
  },
  {
   "cell_type": "code",
   "execution_count": 56,
   "id": "7dce1e19",
   "metadata": {},
   "outputs": [],
   "source": [
    "df_forecast1=df_1.join(df_2)\n",
    "df_forecast1=df_forecast1[[\"TW_price\",\"TW_priceForecast\",\"SOX_Price\",\"SOX_PriceForecast\"]]"
   ]
  },
  {
   "cell_type": "code",
   "execution_count": 57,
   "id": "cea6875f",
   "metadata": {},
   "outputs": [
    {
     "name": "stdout",
     "output_type": "stream",
     "text": [
      "            TW_price  TW_priceForecast  SOX_Price  SOX_PriceForecast\n",
      "2023-06-01  16915.54      16728.179682     3673.1        3469.589286\n",
      "2023-07-01  17145.43      17533.046968     3861.6        3703.812170\n",
      "2023-08-01  16634.51      17734.437539     3670.9        3751.940699\n",
      "2023-09-01  16353.74      18490.085282     3434.3        4021.845204\n",
      "2023-10-01  16001.27      18489.104978     3215.9        4014.344055\n",
      "2023-11-01  17433.85      19449.545993     3724.6        4295.005318\n",
      "2023-12-01  17930.81      19501.839186     4175.5        4332.602024\n",
      "2024-01-01  17889.56      20202.962616     4260.9        4562.755042\n",
      "2024-02-01  18966.77      20539.683776     4726.9        4650.958295\n",
      "2024-03-01  20294.45      21191.769876     4905.2        4862.803183\n",
      "2024-04-01  20396.60      21450.143950     4673.3        4946.405533\n",
      "2024-05-01  20330.32      22157.078528     4784.9        5157.553077\n"
     ]
    }
   ],
   "source": [
    "print(df_forecast1)"
   ]
  },
  {
   "cell_type": "markdown",
   "id": "a39179d7",
   "metadata": {},
   "source": [
    "## 預測視覺化"
   ]
  },
  {
   "cell_type": "code",
   "execution_count": 58,
   "id": "5afaaeaf",
   "metadata": {},
   "outputs": [
    {
     "data": {
      "image/png": "[encoded data removed]",
      "text/plain": [
       "<Figure size 1200x500 with 1 Axes>"
      ]
     },
     "metadata": {},
     "output_type": "display_data"
    }
   ],
   "source": [
    "df['TW_price'][-nobs:].plot(figsize=(12,5),legend=True).autoscale(axis='x',tight=True)\n",
    "df_forecast['TW_priceForecast'].plot(legend=True);"
   ]
  },
  {
   "cell_type": "code",
   "execution_count": 59,
   "id": "d95e9fa1",
   "metadata": {},
   "outputs": [
    {
     "data": {
      "image/png": "[encoded data removed]",
      "text/plain": [
       "<Figure size 1200x500 with 1 Axes>"
      ]
     },
     "metadata": {},
     "output_type": "display_data"
    }
   ],
   "source": [
    "df['SOX_Price'][-nobs:].plot(figsize=(12,5),legend=True).autoscale(axis='x',tight=True)\n",
    "df_forecast['SOX_PriceForecast'].plot(legend=True);"
   ]
  },
  {
   "cell_type": "markdown",
   "id": "a01ad586",
   "metadata": {},
   "source": [
    "## 模型評估(Evaluate the model)"
   ]
  },
  {
   "cell_type": "code",
   "execution_count": 60,
   "id": "3b1ef831",
   "metadata": {},
   "outputs": [
    {
     "name": "stdout",
     "output_type": "stream",
     "text": [
      "TW_price VAR(6) RMSE: 1626.800\n"
     ]
    }
   ],
   "source": [
    "RMSE1 = rmse(df_forecast1['TW_price'][-nobs:], df_forecast1['TW_priceForecast'])\n",
    "print(f'TW_price VAR(6) RMSE: {RMSE1:.3f}')"
   ]
  },
  {
   "cell_type": "code",
   "execution_count": 62,
   "id": "da0af55d",
   "metadata": {},
   "outputs": [
    {
     "name": "stdout",
     "output_type": "stream",
     "text": [
      "SOX_price VAR(6) RMSE: 378.350\n"
     ]
    }
   ],
   "source": [
    "RMSE2 = rmse(df_forecast1['SOX_Price'][-nobs:], df_forecast1['SOX_PriceForecast'])\n",
    "print(f'SOX_price VAR(6) RMSE: {RMSE2:.3f}')"
   ]
  },
  {
   "cell_type": "markdown",
   "id": "52e406de",
   "metadata": {},
   "source": [
    "## 原則上這邊就可以結束了，但我參考的論文有拿AR Model 做比較 所以我也做一下"
   ]
  },
  {
   "cell_type": "code",
   "execution_count": 65,
   "id": "7d1c9e17",
   "metadata": {},
   "outputs": [],
   "source": [
    "from statsmodels.tsa.ar_model import AutoReg"
   ]
  },
  {
   "cell_type": "markdown",
   "id": "de08a689",
   "metadata": {},
   "source": [
    "## 我們用AR(6)model比較"
   ]
  },
  {
   "cell_type": "code",
   "execution_count": 69,
   "id": "47755e40",
   "metadata": {},
   "outputs": [],
   "source": [
    "model= AutoReg(train['TW_price'],lags=6)\n",
    "AR6fit1 = model.fit()"
   ]
  },
  {
   "cell_type": "code",
   "execution_count": 70,
   "id": "f90e15f9",
   "metadata": {},
   "outputs": [],
   "source": [
    "start=len(train)\n",
    "end=len(train)+len(test)-1\n",
    "z1 = pd.DataFrame(AR6fit1.predict(start=start, end=end, dynamic=False),columns=['TW_price'])"
   ]
  },
  {
   "cell_type": "code",
   "execution_count": 72,
   "id": "7966f3c4",
   "metadata": {},
   "outputs": [],
   "source": [
    "# Add the most recent first difference from the training set to the forecast cumulative sum\n",
    "z1['TW_price1d'] = (df['TW_price'].iloc[-nobs-1]-df['TW_price'].iloc[-nobs-2]) + z1['TW_price'].cumsum()\n",
    "\n",
    "# Now build the forecast values from the first difference set\n",
    "z1['TW_priceForecast'] = df['TW_price'].iloc[-nobs-1] + z1['TW_price1d'].cumsum()"
   ]
  },
  {
   "cell_type": "code",
   "execution_count": 75,
   "id": "b5b36ec9",
   "metadata": {},
   "outputs": [],
   "source": [
    "z1=z1[[\"TW_priceForecast\"]]"
   ]
  },
  {
   "cell_type": "code",
   "execution_count": 80,
   "id": "ff095a3d",
   "metadata": {},
   "outputs": [],
   "source": [
    "ar_df=z1[[\"TW_priceForecast\"]].join(df)"
   ]
  },
  {
   "cell_type": "code",
   "execution_count": 83,
   "id": "7a88bc7b",
   "metadata": {},
   "outputs": [
    {
     "name": "stdout",
     "output_type": "stream",
     "text": [
      "            TW_price  TW_priceForecast\n",
      "2023-06-01  16915.54      16793.553553\n",
      "2023-07-01  17145.43      17181.271936\n",
      "2023-08-01  16634.51      17691.224571\n",
      "2023-09-01  16353.74      18107.743936\n",
      "2023-10-01  16001.27      18412.411498\n",
      "2023-11-01  17433.85      18858.192904\n",
      "2023-12-01  17930.81      19312.561593\n",
      "2024-01-01  17889.56      19694.233028\n",
      "2024-02-01  18966.77      20143.370126\n",
      "2024-03-01  20294.45      20592.855554\n",
      "2024-04-01  20396.60      21013.792853\n",
      "2024-05-01  20330.32      21449.698305\n"
     ]
    }
   ],
   "source": [
    "ar_df=ar_df[[\"TW_price\",\"TW_priceForecast\"]]\n",
    "print(ar_df)"
   ]
  },
  {
   "cell_type": "code",
   "execution_count": 84,
   "id": "58e08f39",
   "metadata": {},
   "outputs": [],
   "source": [
    "model= AutoReg(train['SOX_Price'],lags=6)\n",
    "AR6fit1 = model.fit()"
   ]
  },
  {
   "cell_type": "code",
   "execution_count": 86,
   "id": "627020ee",
   "metadata": {},
   "outputs": [],
   "source": [
    "start=len(train)\n",
    "end=len(train)+len(test)-1\n",
    "z2 = pd.DataFrame(AR6fit1.predict(start=start, end=end, dynamic=False),columns=['SOX_Price'])"
   ]
  },
  {
   "cell_type": "code",
   "execution_count": 88,
   "id": "60501706",
   "metadata": {},
   "outputs": [],
   "source": [
    "# Add the most recent first difference from the training set to the forecast cumulative sum\n",
    "z2['SOX_Price1d'] = (df['SOX_Price'].iloc[-nobs-1]-df['SOX_Price'].iloc[-nobs-2]) + z2['SOX_Price'].cumsum()\n",
    "\n",
    "# Now build the forecast values from the first difference set\n",
    "z2['SOX_PriceForecast'] = df['SOX_Price'].iloc[-nobs-1] + z2['SOX_Price1d'].cumsum()"
   ]
  },
  {
   "cell_type": "code",
   "execution_count": 92,
   "id": "e15f18af",
   "metadata": {},
   "outputs": [],
   "source": [
    "z2=z2[[\"SOX_PriceForecast\"]]"
   ]
  },
  {
   "cell_type": "code",
   "execution_count": 94,
   "id": "6873b475",
   "metadata": {},
   "outputs": [],
   "source": [
    "ar_df2=z2[[\"SOX_PriceForecast\"]].join(df)"
   ]
  },
  {
   "cell_type": "code",
   "execution_count": 96,
   "id": "39d6cbf6",
   "metadata": {},
   "outputs": [
    {
     "name": "stdout",
     "output_type": "stream",
     "text": [
      "            SOX_Price  SOX_PriceForecast\n",
      "2023-06-01     3673.1        3413.851790\n",
      "2023-07-01     3861.6        3630.553665\n",
      "2023-08-01     3670.9        3671.070884\n",
      "2023-09-01     3434.3        3901.375163\n",
      "2023-10-01     3215.9        3925.490505\n",
      "2023-11-01     3724.6        4140.448835\n",
      "2023-12-01     4175.5        4219.024783\n",
      "2024-01-01     4260.9        4390.316924\n",
      "2024-02-01     4726.9        4485.147883\n",
      "2024-03-01     4905.2        4656.896120\n",
      "2024-04-01     4673.3        4759.524028\n",
      "2024-05-01     4784.9        4920.183971\n"
     ]
    }
   ],
   "source": [
    "ar_df2=ar_df2[[\"SOX_Price\",\"SOX_PriceForecast\"]]\n",
    "print(ar_df2)"
   ]
  },
  {
   "cell_type": "code",
   "execution_count": 97,
   "id": "d55adedf",
   "metadata": {},
   "outputs": [
    {
     "data": {
      "text/html": [
       "<div>\n",
       "<style scoped>\n",
       "    .dataframe tbody tr th:only-of-type {\n",
       "        vertical-align: middle;\n",
       "    }\n",
       "\n",
       "    .dataframe tbody tr th {\n",
       "        vertical-align: top;\n",
       "    }\n",
       "\n",
       "    .dataframe thead th {\n",
       "        text-align: right;\n",
       "    }\n",
       "</style>\n",
       "<table border=\"1\" class=\"dataframe\">\n",
       "  <thead>\n",
       "    <tr style=\"text-align: right;\">\n",
       "      <th></th>\n",
       "      <th>TW_price</th>\n",
       "      <th>TW_priceForecast</th>\n",
       "      <th>SOX_Price</th>\n",
       "      <th>SOX_PriceForecast</th>\n",
       "    </tr>\n",
       "  </thead>\n",
       "  <tbody>\n",
       "    <tr>\n",
       "      <th>2023-06-01</th>\n",
       "      <td>16915.54</td>\n",
       "      <td>16793.553553</td>\n",
       "      <td>3673.1</td>\n",
       "      <td>3413.851790</td>\n",
       "    </tr>\n",
       "    <tr>\n",
       "      <th>2023-07-01</th>\n",
       "      <td>17145.43</td>\n",
       "      <td>17181.271936</td>\n",
       "      <td>3861.6</td>\n",
       "      <td>3630.553665</td>\n",
       "    </tr>\n",
       "    <tr>\n",
       "      <th>2023-08-01</th>\n",
       "      <td>16634.51</td>\n",
       "      <td>17691.224571</td>\n",
       "      <td>3670.9</td>\n",
       "      <td>3671.070884</td>\n",
       "    </tr>\n",
       "    <tr>\n",
       "      <th>2023-09-01</th>\n",
       "      <td>16353.74</td>\n",
       "      <td>18107.743936</td>\n",
       "      <td>3434.3</td>\n",
       "      <td>3901.375163</td>\n",
       "    </tr>\n",
       "    <tr>\n",
       "      <th>2023-10-01</th>\n",
       "      <td>16001.27</td>\n",
       "      <td>18412.411498</td>\n",
       "      <td>3215.9</td>\n",
       "      <td>3925.490505</td>\n",
       "    </tr>\n",
       "    <tr>\n",
       "      <th>2023-11-01</th>\n",
       "      <td>17433.85</td>\n",
       "      <td>18858.192904</td>\n",
       "      <td>3724.6</td>\n",
       "      <td>4140.448835</td>\n",
       "    </tr>\n",
       "    <tr>\n",
       "      <th>2023-12-01</th>\n",
       "      <td>17930.81</td>\n",
       "      <td>19312.561593</td>\n",
       "      <td>4175.5</td>\n",
       "      <td>4219.024783</td>\n",
       "    </tr>\n",
       "    <tr>\n",
       "      <th>2024-01-01</th>\n",
       "      <td>17889.56</td>\n",
       "      <td>19694.233028</td>\n",
       "      <td>4260.9</td>\n",
       "      <td>4390.316924</td>\n",
       "    </tr>\n",
       "    <tr>\n",
       "      <th>2024-02-01</th>\n",
       "      <td>18966.77</td>\n",
       "      <td>20143.370126</td>\n",
       "      <td>4726.9</td>\n",
       "      <td>4485.147883</td>\n",
       "    </tr>\n",
       "    <tr>\n",
       "      <th>2024-03-01</th>\n",
       "      <td>20294.45</td>\n",
       "      <td>20592.855554</td>\n",
       "      <td>4905.2</td>\n",
       "      <td>4656.896120</td>\n",
       "    </tr>\n",
       "    <tr>\n",
       "      <th>2024-04-01</th>\n",
       "      <td>20396.60</td>\n",
       "      <td>21013.792853</td>\n",
       "      <td>4673.3</td>\n",
       "      <td>4759.524028</td>\n",
       "    </tr>\n",
       "    <tr>\n",
       "      <th>2024-05-01</th>\n",
       "      <td>20330.32</td>\n",
       "      <td>21449.698305</td>\n",
       "      <td>4784.9</td>\n",
       "      <td>4920.183971</td>\n",
       "    </tr>\n",
       "  </tbody>\n",
       "</table>\n",
       "</div>"
      ],
      "text/plain": [
       "            TW_price  TW_priceForecast  SOX_Price  SOX_PriceForecast\n",
       "2023-06-01  16915.54      16793.553553     3673.1        3413.851790\n",
       "2023-07-01  17145.43      17181.271936     3861.6        3630.553665\n",
       "2023-08-01  16634.51      17691.224571     3670.9        3671.070884\n",
       "2023-09-01  16353.74      18107.743936     3434.3        3901.375163\n",
       "2023-10-01  16001.27      18412.411498     3215.9        3925.490505\n",
       "2023-11-01  17433.85      18858.192904     3724.6        4140.448835\n",
       "2023-12-01  17930.81      19312.561593     4175.5        4219.024783\n",
       "2024-01-01  17889.56      19694.233028     4260.9        4390.316924\n",
       "2024-02-01  18966.77      20143.370126     4726.9        4485.147883\n",
       "2024-03-01  20294.45      20592.855554     4905.2        4656.896120\n",
       "2024-04-01  20396.60      21013.792853     4673.3        4759.524028\n",
       "2024-05-01  20330.32      21449.698305     4784.9        4920.183971"
      ]
     },
     "execution_count": 97,
     "metadata": {},
     "output_type": "execute_result"
    }
   ],
   "source": [
    "ar_df=ar_df.join(ar_df2)\n",
    "ar_df"
   ]
  },
  {
   "cell_type": "code",
   "execution_count": 102,
   "id": "fcbb44b1",
   "metadata": {},
   "outputs": [
    {
     "name": "stdout",
     "output_type": "stream",
     "text": [
      "TW_price AR(6) RMSE: 1301.446\n"
     ]
    }
   ],
   "source": [
    "RMSE3 = rmse(ar_df['TW_price'][-nobs:], ar_df['TW_priceForecast'])\n",
    "print(f'TW_price AR(6) RMSE: {RMSE3:.3f}')"
   ]
  },
  {
   "cell_type": "code",
   "execution_count": 101,
   "id": "c17351d2",
   "metadata": {},
   "outputs": [
    {
     "name": "stdout",
     "output_type": "stream",
     "text": [
      "SOX_Price AR(6) RMSE: 313.539\n"
     ]
    }
   ],
   "source": [
    "RMSE4 = rmse(ar_df['SOX_Price'][-nobs:], ar_df['SOX_PriceForecast'])\n",
    "print(f'SOX_Price AR(6) RMSE: {RMSE4:.3f}')"
   ]
  },
  {
   "cell_type": "code",
   "execution_count": 112,
   "id": "673d38d2",
   "metadata": {},
   "outputs": [
    {
     "data": {
      "text/plain": [
       "1626.7996"
      ]
     },
     "execution_count": 112,
     "metadata": {},
     "output_type": "execute_result"
    }
   ],
   "source": [
    "round(RMSE1,4)"
   ]
  },
  {
   "cell_type": "code",
   "execution_count": 117,
   "id": "84684506",
   "metadata": {
    "scrolled": true
   },
   "outputs": [
    {
     "data": {
      "text/html": [
       "<div>\n",
       "<style scoped>\n",
       "    .dataframe tbody tr th:only-of-type {\n",
       "        vertical-align: middle;\n",
       "    }\n",
       "\n",
       "    .dataframe tbody tr th {\n",
       "        vertical-align: top;\n",
       "    }\n",
       "\n",
       "    .dataframe thead th {\n",
       "        text-align: right;\n",
       "    }\n",
       "</style>\n",
       "<table border=\"1\" class=\"dataframe\">\n",
       "  <thead>\n",
       "    <tr style=\"text-align: right;\">\n",
       "      <th></th>\n",
       "      <th>TW_price VAR(6) RMSE</th>\n",
       "      <th>SOX_price VAR(6) RMSE</th>\n",
       "      <th>TW_price AR(6) RMSE</th>\n",
       "      <th>SOX_price AR(6) RMSE</th>\n",
       "    </tr>\n",
       "  </thead>\n",
       "  <tbody>\n",
       "    <tr>\n",
       "      <th>0</th>\n",
       "      <td>1626.7996</td>\n",
       "      <td>378.35</td>\n",
       "      <td>1301.4462</td>\n",
       "      <td>313.5388</td>\n",
       "    </tr>\n",
       "  </tbody>\n",
       "</table>\n",
       "</div>"
      ],
      "text/plain": [
       "   TW_price VAR(6) RMSE  SOX_price VAR(6) RMSE  TW_price AR(6) RMSE  \\\n",
       "0             1626.7996                 378.35            1301.4462   \n",
       "\n",
       "   SOX_price AR(6) RMSE  \n",
       "0              313.5388  "
      ]
     },
     "execution_count": 117,
     "metadata": {},
     "output_type": "execute_result"
    }
   ],
   "source": [
    "pd.DataFrame({\"TW_price VAR(6) RMSE\":[round(RMSE1,4)],\"SOX_price VAR(6) RMSE\":[round(RMSE2,4)],\"TW_price AR(6) RMSE\":[round(RMSE3,4)],\"SOX_price AR(6) RMSE\":[round(RMSE4,4)]})"
   ]
  },
  {
   "cell_type": "markdown",
   "id": "86b7620b",
   "metadata": {},
   "source": [
    "## 結論，我們可以發現AR model 在預測上的表現比VAR更加優秀，這可能顯示雖一國股市雖會因其他兩國股市波動而影響，但以自身過去實際發生的觀察值預測未來績效更好。各國對自身所解釋的比例最大。"
   ]
  },
  {
   "cell_type": "code",
   "execution_count": null,
   "id": "5fa221da",
   "metadata": {},
   "outputs": [],
   "source": []
  }
 ],
 "metadata": {
  "kernelspec": {
   "display_name": "Python 3 (ipykernel)",
   "language": "python",
   "name": "python3"
  },
  "language_info": {
   "codemirror_mode": {
    "name": "ipython",
    "version": 3
   },
   "file_extension": ".py",
   "mimetype": "text/x-python",
   "name": "python",
   "nbconvert_exporter": "python",
   "pygments_lexer": "ipython3",
   "version": "3.11.4"
  }
 },
 "nbformat": 4,
 "nbformat_minor": 5
}
